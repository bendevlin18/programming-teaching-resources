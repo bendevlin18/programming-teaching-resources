{
 "cells": [
  {
   "cell_type": "code",
   "execution_count": 3,
   "metadata": {},
   "outputs": [],
   "source": [
    "variable_1 = 45"
   ]
  },
  {
   "cell_type": "code",
   "execution_count": 4,
   "metadata": {},
   "outputs": [
    {
     "data": {
      "text/plain": [
       "45"
      ]
     },
     "execution_count": 4,
     "metadata": {},
     "output_type": "execute_result"
    }
   ],
   "source": [
    "variable_1"
   ]
  },
  {
   "cell_type": "code",
   "execution_count": 4,
   "metadata": {},
   "outputs": [
    {
     "data": {
      "text/plain": [
       "int"
      ]
     },
     "execution_count": 4,
     "metadata": {},
     "output_type": "execute_result"
    }
   ],
   "source": [
    "type(variable_1)"
   ]
  },
  {
   "cell_type": "code",
   "execution_count": 5,
   "metadata": {},
   "outputs": [],
   "source": [
    "variable_2 = 'Hello'"
   ]
  },
  {
   "cell_type": "code",
   "execution_count": 6,
   "metadata": {},
   "outputs": [
    {
     "data": {
      "text/plain": [
       "str"
      ]
     },
     "execution_count": 6,
     "metadata": {},
     "output_type": "execute_result"
    }
   ],
   "source": [
    "type(variable_2)"
   ]
  },
  {
   "cell_type": "code",
   "execution_count": 9,
   "metadata": {},
   "outputs": [
    {
     "name": "stdout",
     "output_type": "stream",
     "text": [
      "Hello\n"
     ]
    }
   ],
   "source": [
    "print(variable_2)"
   ]
  },
  {
   "cell_type": "code",
   "execution_count": 8,
   "metadata": {},
   "outputs": [
    {
     "data": {
      "text/plain": [
       "'Hello'"
      ]
     },
     "execution_count": 8,
     "metadata": {},
     "output_type": "execute_result"
    }
   ],
   "source": [
    "variable_2"
   ]
  },
  {
   "cell_type": "code",
   "execution_count": 17,
   "metadata": {},
   "outputs": [],
   "source": [
    "variable_3 = variable_1*.25"
   ]
  },
  {
   "cell_type": "code",
   "execution_count": 18,
   "metadata": {},
   "outputs": [
    {
     "name": "stdout",
     "output_type": "stream",
     "text": [
      "11.25\n"
     ]
    }
   ],
   "source": [
    "print(variable_3)"
   ]
  },
  {
   "cell_type": "code",
   "execution_count": 19,
   "metadata": {},
   "outputs": [
    {
     "data": {
      "text/plain": [
       "float"
      ]
     },
     "execution_count": 19,
     "metadata": {},
     "output_type": "execute_result"
    }
   ],
   "source": [
    "type(variable_3)"
   ]
  },
  {
   "cell_type": "code",
   "execution_count": 6,
   "metadata": {},
   "outputs": [
    {
     "data": {
      "text/plain": [
       "[1, 2, 3]"
      ]
     },
     "execution_count": 6,
     "metadata": {},
     "output_type": "execute_result"
    }
   ],
   "source": [
    "my_list = [1, 2, 3]\n",
    "\n",
    "my_list"
   ]
  },
  {
   "cell_type": "code",
   "execution_count": 7,
   "metadata": {},
   "outputs": [],
   "source": [
    "my_list.append([1, 4, 'another_list'])"
   ]
  },
  {
   "cell_type": "code",
   "execution_count": 33,
   "metadata": {},
   "outputs": [
    {
     "data": {
      "text/plain": [
       "[1, 2, 3, 'string!', 4, [1, 4, 5], [1, 4, 'another_list']]"
      ]
     },
     "execution_count": 33,
     "metadata": {},
     "output_type": "execute_result"
    }
   ],
   "source": [
    "my_list"
   ]
  },
  {
   "cell_type": "code",
   "execution_count": 34,
   "metadata": {},
   "outputs": [
    {
     "data": {
      "text/plain": [
       "'string!'"
      ]
     },
     "execution_count": 34,
     "metadata": {},
     "output_type": "execute_result"
    }
   ],
   "source": [
    "my_list[3]"
   ]
  },
  {
   "cell_type": "code",
   "execution_count": 35,
   "metadata": {},
   "outputs": [
    {
     "data": {
      "text/plain": [
       "1"
      ]
     },
     "execution_count": 35,
     "metadata": {},
     "output_type": "execute_result"
    }
   ],
   "source": [
    "my_list[0]"
   ]
  },
  {
   "cell_type": "code",
   "execution_count": 42,
   "metadata": {},
   "outputs": [
    {
     "data": {
      "text/plain": [
       "5"
      ]
     },
     "execution_count": 42,
     "metadata": {},
     "output_type": "execute_result"
    }
   ],
   "source": [
    "my_list[5][2]"
   ]
  },
  {
   "cell_type": "code",
   "execution_count": 38,
   "metadata": {},
   "outputs": [
    {
     "data": {
      "text/plain": [
       "[3, 'string!']"
      ]
     },
     "execution_count": 38,
     "metadata": {},
     "output_type": "execute_result"
    }
   ],
   "source": [
    "my_list[2:4]"
   ]
  },
  {
   "cell_type": "code",
   "execution_count": 39,
   "metadata": {},
   "outputs": [
    {
     "data": {
      "text/plain": [
       "[1, 3, 4, [1, 4, 'another_list']]"
      ]
     },
     "execution_count": 39,
     "metadata": {},
     "output_type": "execute_result"
    }
   ],
   "source": [
    "my_list[0:7:2]"
   ]
  },
  {
   "cell_type": "code",
   "execution_count": 43,
   "metadata": {},
   "outputs": [],
   "source": [
    "my_list_2 = [7, 8, 9]"
   ]
  },
  {
   "cell_type": "code",
   "execution_count": 44,
   "metadata": {},
   "outputs": [
    {
     "data": {
      "text/plain": [
       "([1, 2, 3, 'string!', 4, [1, 4, 5], [1, 4, 'another_list']], [7, 8, 9])"
      ]
     },
     "execution_count": 44,
     "metadata": {},
     "output_type": "execute_result"
    }
   ],
   "source": [
    "my_list, my_list_2"
   ]
  },
  {
   "cell_type": "code",
   "execution_count": 45,
   "metadata": {},
   "outputs": [],
   "source": [
    "my_list_combined = my_list + my_list_2"
   ]
  },
  {
   "cell_type": "code",
   "execution_count": 48,
   "metadata": {},
   "outputs": [
    {
     "data": {
      "text/plain": [
       "[1, 2, 3, 'string!', 4, [1, 4, 5], [1, 4, 'another_list'], 7, 8, 9]"
      ]
     },
     "execution_count": 48,
     "metadata": {},
     "output_type": "execute_result"
    }
   ],
   "source": [
    "my_list_combined"
   ]
  },
  {
   "cell_type": "code",
   "execution_count": 22,
   "metadata": {},
   "outputs": [],
   "source": [
    "my_dict = {'key1': 34, 'key2': variable_1, 'key3': my_list, 'key4': 'thisisastring', 'LFD_vals': [1, 2, 3], 'HFD_vals': [10, 8, 9]}"
   ]
  },
  {
   "cell_type": "code",
   "execution_count": 10,
   "metadata": {},
   "outputs": [
    {
     "data": {
      "text/plain": [
       "{'key1': 34,\n",
       " 'key2': 45,\n",
       " 'key3': [1, 2, 3, [1, 4, 'another_list']],\n",
       " 'key4': 'thisisastring',\n",
       " 'key5': [1, 2, 3]}"
      ]
     },
     "execution_count": 10,
     "metadata": {},
     "output_type": "execute_result"
    }
   ],
   "source": [
    "my_dict"
   ]
  },
  {
   "cell_type": "code",
   "execution_count": 24,
   "metadata": {},
   "outputs": [
    {
     "data": {
      "text/plain": [
       "(dict_keys(['key1', 'key2', 'key3', 'key4', 'LFD_vals', 'HFD_vals']),\n",
       " dict_values([34, 45, [1, 2, 3, [1, 4, 'another_list']], 'thisisastring', [1, 2, 3], [10, 8, 9]]))"
      ]
     },
     "execution_count": 24,
     "metadata": {},
     "output_type": "execute_result"
    }
   ],
   "source": [
    "my_dict.keys(), my_dict.values()"
   ]
  },
  {
   "cell_type": "code",
   "execution_count": 13,
   "metadata": {},
   "outputs": [
    {
     "data": {
      "text/plain": [
       "34"
      ]
     },
     "execution_count": 13,
     "metadata": {},
     "output_type": "execute_result"
    }
   ],
   "source": [
    "my_dict['key1']"
   ]
  },
  {
   "cell_type": "code",
   "execution_count": 26,
   "metadata": {},
   "outputs": [
    {
     "data": {
      "text/plain": [
       "[1, 2, 3, 10, 8, 9]"
      ]
     },
     "execution_count": 26,
     "metadata": {},
     "output_type": "execute_result"
    }
   ],
   "source": [
    "my_dict['LFD_vals'] + my_dict['HFD_vals']"
   ]
  },
  {
   "cell_type": "code",
   "execution_count": 27,
   "metadata": {},
   "outputs": [
    {
     "data": {
      "text/plain": [
       "[[2, 4, 6], [1, 2, 3]]"
      ]
     },
     "execution_count": 27,
     "metadata": {},
     "output_type": "execute_result"
    }
   ],
   "source": [
    "lol = [[2, 4, 6], my_list[0:3]]\n",
    "\n",
    "lol"
   ]
  },
  {
   "cell_type": "code",
   "execution_count": 28,
   "metadata": {},
   "outputs": [
    {
     "data": {
      "text/plain": [
       "(6, 3)"
      ]
     },
     "execution_count": 28,
     "metadata": {},
     "output_type": "execute_result"
    }
   ],
   "source": [
    "lol[0][2], lol[1][2]"
   ]
  },
  {
   "cell_type": "code",
   "execution_count": 29,
   "metadata": {},
   "outputs": [],
   "source": [
    "import numpy as np"
   ]
  },
  {
   "cell_type": "code",
   "execution_count": 30,
   "metadata": {},
   "outputs": [
    {
     "data": {
      "text/plain": [
       "[[2, 4, 6], [1, 2, 3]]"
      ]
     },
     "execution_count": 30,
     "metadata": {},
     "output_type": "execute_result"
    }
   ],
   "source": [
    "lol"
   ]
  },
  {
   "cell_type": "code",
   "execution_count": 32,
   "metadata": {},
   "outputs": [
    {
     "data": {
      "text/plain": [
       "array([[2, 4, 6],\n",
       "       [1, 2, 3]])"
      ]
     },
     "execution_count": 32,
     "metadata": {},
     "output_type": "execute_result"
    }
   ],
   "source": [
    "my_arr = np.array(lol)\n",
    "\n",
    "my_arr"
   ]
  },
  {
   "cell_type": "code",
   "execution_count": 37,
   "metadata": {},
   "outputs": [
    {
     "data": {
      "text/plain": [
       "6"
      ]
     },
     "execution_count": 37,
     "metadata": {},
     "output_type": "execute_result"
    }
   ],
   "source": [
    "my_arr[0][2]"
   ]
  },
  {
   "cell_type": "code",
   "execution_count": 41,
   "metadata": {},
   "outputs": [
    {
     "name": "stdout",
     "output_type": "stream",
     "text": [
      "Smaller array:  (2, 3)\n",
      "Bigger array:  (50, 50, 50)\n"
     ]
    }
   ],
   "source": [
    "print('Smaller array: ',np.shape(my_arr))\n",
    "print('Bigger array: ',np.shape(big_3d_arr))"
   ]
  },
  {
   "cell_type": "code",
   "execution_count": 45,
   "metadata": {},
   "outputs": [
    {
     "data": {
      "text/plain": [
       "(50, 50)"
      ]
     },
     "execution_count": 45,
     "metadata": {},
     "output_type": "execute_result"
    }
   ],
   "source": [
    "np.shape(big_3d_arr[:][:][45])"
   ]
  },
  {
   "cell_type": "code",
   "execution_count": 43,
   "metadata": {},
   "outputs": [
    {
     "data": {
      "text/plain": [
       "array([[[0.00171641, 0.04780869, 0.21721745, ..., 0.9208265 ,\n",
       "         0.02294125, 0.83676507],\n",
       "        [0.09715752, 0.37446609, 0.065995  , ..., 0.48654107,\n",
       "         0.42981006, 0.68091523],\n",
       "        [0.14002056, 0.19266408, 0.77098307, ..., 0.85703857,\n",
       "         0.94437556, 0.61778016],\n",
       "        ...,\n",
       "        [0.71713241, 0.19475772, 0.26844359, ..., 0.4793253 ,\n",
       "         0.67319528, 0.1838519 ],\n",
       "        [0.78957094, 0.43564553, 0.50470563, ..., 0.98966362,\n",
       "         0.73327245, 0.77869272],\n",
       "        [0.62925038, 0.25541213, 0.54309702, ..., 0.48434904,\n",
       "         0.97750964, 0.1282851 ]],\n",
       "\n",
       "       [[0.93291628, 0.01180901, 0.07894722, ..., 0.83195781,\n",
       "         0.25811757, 0.62388522],\n",
       "        [0.08518513, 0.42196745, 0.29026174, ..., 0.66988697,\n",
       "         0.01782721, 0.87613512],\n",
       "        [0.73347542, 0.8476371 , 0.81381223, ..., 0.4934251 ,\n",
       "         0.64291886, 0.09496273],\n",
       "        ...,\n",
       "        [0.71753181, 0.87830084, 0.25169197, ..., 0.87070132,\n",
       "         0.33369299, 0.76090098],\n",
       "        [0.37843794, 0.55517591, 0.48697276, ..., 0.50945841,\n",
       "         0.66014775, 0.9330493 ],\n",
       "        [0.17582658, 0.22300136, 0.07482533, ..., 0.14872062,\n",
       "         0.30013041, 0.93140488]],\n",
       "\n",
       "       [[0.42866062, 0.76071456, 0.85673754, ..., 0.45457451,\n",
       "         0.0913308 , 0.77303041],\n",
       "        [0.0211956 , 0.63184817, 0.59635325, ..., 0.3421502 ,\n",
       "         0.16257088, 0.01199373],\n",
       "        [0.26861134, 0.7796524 , 0.49462733, ..., 0.87224005,\n",
       "         0.6857268 , 0.09816653],\n",
       "        ...,\n",
       "        [0.51684777, 0.37432345, 0.40668811, ..., 0.99426764,\n",
       "         0.33625245, 0.74679324],\n",
       "        [0.13169434, 0.89801211, 0.24634807, ..., 0.82607275,\n",
       "         0.3656896 , 0.24585599],\n",
       "        [0.13720724, 0.86295201, 0.87664637, ..., 0.54783805,\n",
       "         0.65345325, 0.64286666]],\n",
       "\n",
       "       ...,\n",
       "\n",
       "       [[0.71408251, 0.08785261, 0.87661217, ..., 0.89552665,\n",
       "         0.77821593, 0.50859327],\n",
       "        [0.08511821, 0.26583989, 0.1795301 , ..., 0.80465668,\n",
       "         0.21803162, 0.70987418],\n",
       "        [0.98697487, 0.44661988, 0.27304738, ..., 0.9106407 ,\n",
       "         0.99396398, 0.19061582],\n",
       "        ...,\n",
       "        [0.50778918, 0.0842775 , 0.29659015, ..., 0.41485485,\n",
       "         0.47977839, 0.10709961],\n",
       "        [0.22371391, 0.31905073, 0.45453287, ..., 0.52462293,\n",
       "         0.35339607, 0.52294277],\n",
       "        [0.15170924, 0.13157269, 0.36037627, ..., 0.02899615,\n",
       "         0.82867204, 0.75923533]],\n",
       "\n",
       "       [[0.54230886, 0.96339687, 0.71690828, ..., 0.38945939,\n",
       "         0.98549929, 0.90012738],\n",
       "        [0.11642337, 0.04231168, 0.12500497, ..., 0.89561336,\n",
       "         0.27026374, 0.74726232],\n",
       "        [0.47660349, 0.726476  , 0.24785558, ..., 0.97698595,\n",
       "         0.70215361, 0.50478451],\n",
       "        ...,\n",
       "        [0.36996841, 0.44863715, 0.28282725, ..., 0.13890889,\n",
       "         0.75787751, 0.26976622],\n",
       "        [0.26065484, 0.45542195, 0.79308157, ..., 0.24121099,\n",
       "         0.2453479 , 0.94291463],\n",
       "        [0.81961701, 0.84725985, 0.41345777, ..., 0.50481373,\n",
       "         0.60423526, 0.94008691]],\n",
       "\n",
       "       [[0.09751249, 0.11174458, 0.5850824 , ..., 0.46663576,\n",
       "         0.38752595, 0.34213795],\n",
       "        [0.80594595, 0.82581348, 0.12680695, ..., 0.91112662,\n",
       "         0.37793495, 0.69672625],\n",
       "        [0.76172495, 0.36501933, 0.53082551, ..., 0.78321186,\n",
       "         0.63705366, 0.62832856],\n",
       "        ...,\n",
       "        [0.4183362 , 0.39345467, 0.72643202, ..., 0.44054905,\n",
       "         0.30174281, 0.52964468],\n",
       "        [0.38542003, 0.29961336, 0.93813446, ..., 0.90439535,\n",
       "         0.70647136, 0.82903411],\n",
       "        [0.99301563, 0.96690611, 0.28290353, ..., 0.04316669,\n",
       "         0.83495108, 0.06862358]]])"
      ]
     },
     "execution_count": 43,
     "metadata": {},
     "output_type": "execute_result"
    }
   ],
   "source": [
    "big_3d_arr = np.random.rand(50, 50, 50)\n",
    "\n",
    "big_3d_arr"
   ]
  },
  {
   "cell_type": "code",
   "execution_count": 1,
   "metadata": {},
   "outputs": [],
   "source": [
    "from PIL import Image\n",
    "im = Image.open('H:\\\\DATA\\\\nacc_ihc200316\\\\dsred_Nacc\\\\dapi_output\\\\C1-an4-1_dsred_nacc_20x_ap_MIP.tif')"
   ]
  },
  {
   "cell_type": "code",
   "execution_count": 2,
   "metadata": {},
   "outputs": [],
   "source": [
    "import matplotlib.pyplot as plt"
   ]
  },
  {
   "cell_type": "code",
   "execution_count": 3,
   "metadata": {},
   "outputs": [
    {
     "data": {
      "text/plain": [
       "<matplotlib.image.AxesImage at 0x189b73a3fc8>"
      ]
     },
     "execution_count": 3,
     "metadata": {},
     "output_type": "execute_result"
    },
    {
     "data": {
      "image/png": "[encoded data removed]",
      "text/plain": [
       "<Figure size 432x288 with 1 Axes>"
      ]
     },
     "metadata": {
      "needs_background": "light"
     },
     "output_type": "display_data"
    }
   ],
   "source": [
    "plt.imshow(im)"
   ]
  },
  {
   "cell_type": "code",
   "execution_count": null,
   "metadata": {},
   "outputs": [],
   "source": []
  }
 ],
 "metadata": {
  "kernelspec": {
   "display_name": "Python 3",
   "language": "python",
   "name": "python3"
  },
  "language_info": {
   "codemirror_mode": {
    "name": "ipython",
    "version": 3
   },
   "file_extension": ".py",
   "mimetype": "text/x-python",
   "name": "python",
   "nbconvert_exporter": "python",
   "pygments_lexer": "ipython3",
   "version": "3.7.4"
  }
 },
 "nbformat": 4,
 "nbformat_minor": 4
}
