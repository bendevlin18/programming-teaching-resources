{
 "cells": [
  {
   "cell_type": "markdown",
   "metadata": {},
   "source": [
    "# *Introduction to Python for managing and manipulating data*\n",
    "\n",
    "- This is a general introduction to the world of programming for data import, management, analysis, and visualization\n",
    "- Resources have been compiled from many sources, including [Eric Monson from CDVS](https://github.com/emonson/pandas-jupyterlab), and [John Pearson in Neurobiology](https://pearsonlab.github.io/learning.html#python-for-data-science), and [Jake Van Der Plas's Python Data Science Handbook](https://jakevdp.github.io/PythonDataScienceHandbook/)\n",
    "\n",
    "This is by no means meant to be intensive, just a jumping-off point that will expose you to the principles of data science and how we can use these programming tools to automate a lot of the analysis and management of data that we do on a daily basis\n",
    "\n",
    "\n",
    "I have found python to be particularly awesome for this application, as it is super intuitive to learn, and gives you space to learn about the concepts without being bogged down by complicated or tedious syntax\n",
    "\n",
    "\n",
    "---"
   ]
  },
  {
   "cell_type": "markdown",
   "metadata": {},
   "source": [
    "## IPython Notebooks\n",
    "\n",
    "* You can run a cell by pressing ``[shift] + [Enter]`` or by pressing the \"play\" button in the menu.\n",
    "* You can get help on a function or object by pressing ``[shift] + [tab]`` after the opening parenthesis ``function(``\n",
    "* You can also get help by executing: ``function?``\n",
    "\n",
    "\n",
    "---\n"
   ]
  },
  {
   "cell_type": "code",
   "execution_count": 5,
   "metadata": {},
   "outputs": [],
   "source": [
    "#this is a comment (a piece of code that is not executed)\n",
    "#it is denoted by the hashtag sign in python"
   ]
  },
  {
   "cell_type": "code",
   "execution_count": 64,
   "metadata": {},
   "outputs": [],
   "source": [
    "#this is a cell, an individual piece of code that can be compiled and run on-the-fly"
   ]
  },
  {
   "cell_type": "code",
   "execution_count": 65,
   "metadata": {},
   "outputs": [],
   "source": [
    "#some useful keyboard shortcuts:\n",
    "\n",
    "#click outside of a cell and press 'A' to insert a cell above, \"B\" to insert a cell below, and 'DD' to delete the highlighted cell\n",
    "#press 'M' to turn the cell from Code to Markdown, which is useful for documenting code and typing using html"
   ]
  },
  {
   "cell_type": "markdown",
   "metadata": {},
   "source": [
    "# _(1) Python Basic Data Storage and Types_\n",
    "\n",
    "---\n",
    "\n",
    "- Python has a few very useful different ways to store data without the import of any packages (even though the packages are essential for most applications).\n",
    "- Pretty much anything in python can be assigned to a variable (which is a pointer to a piece of memory containing the information you assigned to it)\n",
    "- Lists and Dictionaries are the two most relevant to us\n",
    "    - Within these, you can store a number of different data TYPES, including: strings, integers, floats (decimal numbers), and other variables!"
   ]
  },
  {
   "cell_type": "code",
   "execution_count": 9,
   "metadata": {},
   "outputs": [
    {
     "data": {
      "text/plain": [
       "(3, 'test', 4.67, 7.67)"
      ]
     },
     "execution_count": 9,
     "metadata": {},
     "output_type": "execute_result"
    }
   ],
   "source": [
    "#one can assign any type of data to a variable name using the equals sign\n",
    "\n",
    "variable_1 = 3  #dtype = int\n",
    "variable_2 = 'test'  #dtype = string\n",
    "variable_3 = 4.67  #dtype = float\n",
    "variable_4 = variable_3 * variable_1  #dtype = ?\n",
    "\n",
    "variable_1, variable_2, variable_3, variable_4"
   ]
  },
  {
   "cell_type": "code",
   "execution_count": 13,
   "metadata": {},
   "outputs": [
    {
     "name": "stdout",
     "output_type": "stream",
     "text": [
      "1.5\n",
      "214.82\n",
      "test: additon\n"
     ]
    }
   ],
   "source": [
    "#these variables can be easily operated on using many different mathematical operators, and all of them are pretty intuitive\n",
    "\n",
    "print(variable_1/2)\n",
    "print(variable_3 * 46)\n",
    "print(variable_2 + ': additon')"
   ]
  },
  {
   "cell_type": "markdown",
   "metadata": {},
   "source": [
    "This is extremely powerful, and the core of manipulating data in a reproducible way, as will become clearer later on"
   ]
  },
  {
   "cell_type": "markdown",
   "metadata": {},
   "source": [
    "## Lists!\n",
    "\n",
    "- Lists are ordered containers of elements"
   ]
  },
  {
   "cell_type": "code",
   "execution_count": 25,
   "metadata": {},
   "outputs": [],
   "source": [
    "#to make a list, use the bracket notation\n",
    "\n",
    "my_list = [1, 2, 3]"
   ]
  },
  {
   "cell_type": "code",
   "execution_count": 26,
   "metadata": {},
   "outputs": [
    {
     "data": {
      "text/plain": [
       "[1, 2, 3]"
      ]
     },
     "execution_count": 26,
     "metadata": {},
     "output_type": "execute_result"
    }
   ],
   "source": [
    "my_list"
   ]
  },
  {
   "cell_type": "code",
   "execution_count": 27,
   "metadata": {},
   "outputs": [],
   "source": [
    "#the append function adds a piece of data on to the end of a list\n",
    "\n",
    "my_list.append('string!')"
   ]
  },
  {
   "cell_type": "code",
   "execution_count": 31,
   "metadata": {},
   "outputs": [
    {
     "data": {
      "text/plain": [
       "[1, 2, 3, 'string!']"
      ]
     },
     "execution_count": 31,
     "metadata": {},
     "output_type": "execute_result"
    }
   ],
   "source": [
    "my_list"
   ]
  },
  {
   "cell_type": "markdown",
   "metadata": {},
   "source": [
    "Indexing a list - this is a very powerful tool for selecting only the data you want"
   ]
  },
  {
   "cell_type": "code",
   "execution_count": 60,
   "metadata": {},
   "outputs": [
    {
     "data": {
      "text/plain": [
       "'string!'"
      ]
     },
     "execution_count": 60,
     "metadata": {},
     "output_type": "execute_result"
    }
   ],
   "source": [
    "my_list[3]"
   ]
  },
  {
   "cell_type": "code",
   "execution_count": 57,
   "metadata": {},
   "outputs": [
    {
     "data": {
      "text/plain": [
       "2"
      ]
     },
     "execution_count": 57,
     "metadata": {},
     "output_type": "execute_result"
    }
   ],
   "source": [
    "#IMPORTANT - indexing in python starts at 0, so if you are indexing with the #1, you are actually  grabbing the second element within that list\n",
    "\n",
    "my_list[1]"
   ]
  },
  {
   "cell_type": "code",
   "execution_count": 63,
   "metadata": {},
   "outputs": [
    {
     "data": {
      "text/plain": [
       "[2, 3]"
      ]
     },
     "execution_count": 63,
     "metadata": {},
     "output_type": "execute_result"
    }
   ],
   "source": [
    "#indexing can also be used to grab multiple values, using colon notation - this is called slicing\n",
    "\n",
    "my_list[1:3]"
   ]
  },
  {
   "cell_type": "code",
   "execution_count": 94,
   "metadata": {},
   "outputs": [
    {
     "data": {
      "text/plain": [
       "[1, 2, 3, 'string!']"
      ]
     },
     "execution_count": 94,
     "metadata": {},
     "output_type": "execute_result"
    }
   ],
   "source": [
    "#this is a clever way to just return every value, will be useful later on when we want to access only some parts of multidimensional data\n",
    "\n",
    "my_list[:]"
   ]
  },
  {
   "cell_type": "markdown",
   "metadata": {},
   "source": [
    "Indexing is very widely used, and as such, there are a ton of resources out there and many, many, many rules and special ways to do it. I will not be covering everything in here, but if you would like to learn more about it I would recommend these: [[Numpy Documentation]](https://docs.scipy.org/doc/numpy/reference/arrays.indexing.html) [[Hacker Earth]](https://www.hackerearth.com/practice/notes/samarthbhargav/a-quick-intro-to-indexing-in-python/) [[PDSH]](https://jakevdp.github.io/PythonDataScienceHandbook/03.02-data-indexing-and-selection.html)"
   ]
  },
  {
   "cell_type": "markdown",
   "metadata": {},
   "source": [
    "## Dictionaries!\n",
    "\n",
    "- Dictionaries are unordered, key-value pairs"
   ]
  },
  {
   "cell_type": "code",
   "execution_count": 35,
   "metadata": {},
   "outputs": [],
   "source": [
    "#to make a dictionary, use the curly bracket notation\n",
    "\n",
    "my_dict = {'key1': 34, 'key2': variable_1, 'key3': my_list, 'key4': 'thisisastring'}"
   ]
  },
  {
   "cell_type": "code",
   "execution_count": 36,
   "metadata": {},
   "outputs": [
    {
     "data": {
      "text/plain": [
       "{'key1': 34, 'key2': 3, 'key3': [1, 2, 3, 'string!'], 'key4': 'thisisastring'}"
      ]
     },
     "execution_count": 36,
     "metadata": {},
     "output_type": "execute_result"
    }
   ],
   "source": [
    "#NOTE that dictionaries are unordered, and you only access the data within them by choosing the keys or values that they contain\n",
    "\n",
    "my_dict"
   ]
  },
  {
   "cell_type": "code",
   "execution_count": 43,
   "metadata": {},
   "outputs": [
    {
     "data": {
      "text/plain": [
       "(dict_keys(['key1', 'key2', 'key3', 'key4']),\n",
       " dict_values([34, 3, [1, 2, 3, 'string!'], 'thisisastring']))"
      ]
     },
     "execution_count": 43,
     "metadata": {},
     "output_type": "execute_result"
    }
   ],
   "source": [
    "#these are helpful little functions that return all of the keys or values that are stored in your dictionary\n",
    "\n",
    "my_dict.keys(), my_dict.values()"
   ]
  },
  {
   "cell_type": "code",
   "execution_count": 41,
   "metadata": {},
   "outputs": [
    {
     "data": {
      "text/plain": [
       "(34, [1, 2, 3, 'string!'])"
      ]
     },
     "execution_count": 41,
     "metadata": {},
     "output_type": "execute_result"
    }
   ],
   "source": [
    "#use the bracket notation for indexing\n",
    "\n",
    "my_dict['key1'], my_dict['key3']"
   ]
  },
  {
   "cell_type": "markdown",
   "metadata": {},
   "source": [
    "## Lists of lists!"
   ]
  },
  {
   "cell_type": "code",
   "execution_count": 82,
   "metadata": {},
   "outputs": [
    {
     "data": {
      "text/plain": [
       "[[2, 4, 6], [1, 2, 3]]"
      ]
     },
     "execution_count": 82,
     "metadata": {},
     "output_type": "execute_result"
    }
   ],
   "source": [
    "#brackets within brackets! now we're starting to look more like matrices or spreadsheets...\n",
    "\n",
    "lol = [[2, 4, 6], my_list[0:3]]\n",
    "\n",
    "lol"
   ]
  },
  {
   "cell_type": "markdown",
   "metadata": {},
   "source": [
    "Here we have made a 2-dimensional list, where the first dimension has two values (top list and bottom list) and the second dimension contains all of the information within those two lists"
   ]
  },
  {
   "cell_type": "code",
   "execution_count": 83,
   "metadata": {},
   "outputs": [
    {
     "data": {
      "text/plain": [
       "(6, 3)"
      ]
     },
     "execution_count": 83,
     "metadata": {},
     "output_type": "execute_result"
    }
   ],
   "source": [
    "#indexing into this list is about the same, but you have to index through each dimension!\n",
    "\n",
    "lol[0][2], lol[1][2]"
   ]
  },
  {
   "cell_type": "markdown",
   "metadata": {},
   "source": [
    "Now these are great foundations, but to really unlock the power of python for scientific programming, we need to start importing some packages"
   ]
  },
  {
   "cell_type": "markdown",
   "metadata": {},
   "source": [
    "# *(2) Packages in Python*\n",
    "\n",
    "---\n",
    "\n",
    "- Python has many robust and open source packages for all sorts of different applications\n",
    "- Of most relevance to us will be [scipy (scientific python) packages](https://www.scipy.org/), which were downloaded automatically by anaconda\n",
    "    - Numpy: stands for numerical python. Introduces arrays, broadcasting, and other useful functions for observing and moving around numerical data\n",
    "    - Pandas: Dataframes! Introduces this spreadsheet-like datatype and super flexible, comprehensive, and efficient ways to interact with table-style data\n",
    "    - Matplotlib and Seaborn: These are our python plotting packages, which take pretty much any datatype and help to visualize data on the fly\n",
    "        - While these are both getting much better, plotting is more intuitive and comprehensive outside of python, in programs like R or prism\n",
    "    - Scipy.stats: For running some basic statistical tests, but again, these can be done more comprehensively elsewhere"
   ]
  },
  {
   "cell_type": "code",
   "execution_count": 84,
   "metadata": {},
   "outputs": [],
   "source": [
    "#to import packages in python, just type it out!\n",
    "#convention is to import the longer package names with shorter abbreviations, to reduce the amount of typing when using a function from one of these packages\n",
    "\n",
    "import numpy as np\n",
    "import pandas as pd\n",
    "import matplotlib.pyplot as plt"
   ]
  },
  {
   "cell_type": "markdown",
   "metadata": {},
   "source": [
    "## Numpy - A Basic Rundown"
   ]
  },
  {
   "cell_type": "code",
   "execution_count": 85,
   "metadata": {},
   "outputs": [
    {
     "data": {
      "text/plain": [
       "[[2, 4, 6], [1, 2, 3]]"
      ]
     },
     "execution_count": 85,
     "metadata": {},
     "output_type": "execute_result"
    }
   ],
   "source": [
    "#let's start with our 2D list of lists from above\n",
    "\n",
    "lol"
   ]
  },
  {
   "cell_type": "code",
   "execution_count": 86,
   "metadata": {},
   "outputs": [],
   "source": [
    "my_arr = np.array(lol)"
   ]
  },
  {
   "cell_type": "code",
   "execution_count": 89,
   "metadata": {},
   "outputs": [
    {
     "data": {
      "text/plain": [
       "array([[2, 4, 6],\n",
       "       [1, 2, 3]])"
      ]
     },
     "execution_count": 89,
     "metadata": {},
     "output_type": "execute_result"
    }
   ],
   "source": [
    "#now we have a more elegant version of our 2D data above! In array form!\n",
    "\n",
    "my_arr"
   ]
  },
  {
   "cell_type": "code",
   "execution_count": 90,
   "metadata": {},
   "outputs": [
    {
     "data": {
      "text/plain": [
       "array([1, 2, 3])"
      ]
     },
     "execution_count": 90,
     "metadata": {},
     "output_type": "execute_result"
    }
   ],
   "source": [
    "#you can still index it just like normal\n",
    "\n",
    "my_arr[1]"
   ]
  },
  {
   "cell_type": "markdown",
   "metadata": {},
   "source": [
    "### Broadcasting"
   ]
  },
  {
   "cell_type": "code",
   "execution_count": 91,
   "metadata": {},
   "outputs": [
    {
     "data": {
      "text/plain": [
       "array([[ 6, 12, 18],\n",
       "       [ 3,  6,  9]])"
      ]
     },
     "execution_count": 91,
     "metadata": {},
     "output_type": "execute_result"
    }
   ],
   "source": [
    "#whenever you try to operate on a numpy, it is done ELEMENTWISE - i.e. element by element\n",
    "\n",
    "3 * my_arr"
   ]
  },
  {
   "cell_type": "code",
   "execution_count": 92,
   "metadata": {},
   "outputs": [
    {
     "data": {
      "text/plain": [
       "array([[ 6, 12, 18],\n",
       "       [ 3,  6,  9]])"
      ]
     },
     "execution_count": 92,
     "metadata": {},
     "output_type": "execute_result"
    }
   ],
   "source": [
    "#this allows for some awesome manipulations of entire datasets\n",
    "\n",
    "variable_1 * my_arr"
   ]
  },
  {
   "cell_type": "code",
   "execution_count": 93,
   "metadata": {},
   "outputs": [
    {
     "data": {
      "text/plain": [
       "array([ 8.67,  9.67, 10.67])"
      ]
     },
     "execution_count": 93,
     "metadata": {},
     "output_type": "execute_result"
    }
   ],
   "source": [
    "variable_4 + my_arr[1][:]"
   ]
  },
  {
   "cell_type": "code",
   "execution_count": 95,
   "metadata": {},
   "outputs": [
    {
     "data": {
      "text/plain": [
       "array([[23.5       , 11.75      ,  7.83333333],\n",
       "       [47.        , 23.5       , 15.66666667]])"
      ]
     },
     "execution_count": 95,
     "metadata": {},
     "output_type": "execute_result"
    }
   ],
   "source": [
    "47 / my_arr"
   ]
  },
  {
   "cell_type": "code",
   "execution_count": 102,
   "metadata": {},
   "outputs": [
    {
     "name": "stdout",
     "output_type": "stream",
     "text": [
      "Scaled Up:  [ 35  70 105]\n",
      "Scaled Up / Original Array:  [[17.5 17.5 17.5]\n",
      " [35.  35.  35. ]]\n"
     ]
    }
   ],
   "source": [
    "#and remember, we can assign any of these operations to new variables!\n",
    "\n",
    "scaled_up = 35 * my_arr[1][:]\n",
    "\n",
    "print('Scaled Up: ', scaled_up)\n",
    "print('Scaled Up / Original Array: ', scaled_up/my_arr)"
   ]
  },
  {
   "cell_type": "markdown",
   "metadata": {},
   "source": [
    "Numpy also introduces many functions that are helpful for observing what kind of data you are working with (because if it is imported or freshly collected, you don't always know!)"
   ]
  },
  {
   "cell_type": "code",
   "execution_count": 105,
   "metadata": {},
   "outputs": [
    {
     "data": {
      "text/plain": [
       "(2, 3)"
      ]
     },
     "execution_count": 105,
     "metadata": {},
     "output_type": "execute_result"
    }
   ],
   "source": [
    "#the .shape function returns a tuple of dimensional information. In our case, the arr has 2 components in the first dimension (top list and bottom list) and 3 components\n",
    "#in the bottom dimension (3 values within each list)\n",
    "\n",
    "np.shape(my_arr)"
   ]
  },
  {
   "cell_type": "code",
   "execution_count": 107,
   "metadata": {},
   "outputs": [
    {
     "data": {
      "text/plain": [
       "(3,)"
      ]
     },
     "execution_count": 107,
     "metadata": {},
     "output_type": "execute_result"
    }
   ],
   "source": [
    "#you can also think about this as (# of rows, # of columns, # of tables)\n",
    "\n",
    "np.shape(scaled_up)"
   ]
  },
  {
   "cell_type": "code",
   "execution_count": 153,
   "metadata": {},
   "outputs": [
    {
     "data": {
      "text/plain": [
       "(50, 50, 50)"
      ]
     },
     "execution_count": 153,
     "metadata": {},
     "output_type": "execute_result"
    }
   ],
   "source": [
    "#numpy also contains functions that will make arrays for you! this one makes random numbers\n",
    "\n",
    "big_3d_arr = np.random.rand(50, 50, 50)\n",
    "\n",
    "big_3d_arr.shape"
   ]
  },
  {
   "cell_type": "code",
   "execution_count": 154,
   "metadata": {},
   "outputs": [
    {
     "data": {
      "text/plain": [
       "(5000, 5000)"
      ]
     },
     "execution_count": 154,
     "metadata": {},
     "output_type": "execute_result"
    }
   ],
   "source": [
    "#this one generates random numbers from a normal gaussian distribution with mean = 0 and SD = 1 in this case\n",
    "\n",
    "normal_dist = np.random.normal(0, 1, (5000, 5000))\n",
    "normal_dist.shape"
   ]
  },
  {
   "cell_type": "code",
   "execution_count": 155,
   "metadata": {},
   "outputs": [
    {
     "name": "stdout",
     "output_type": "stream",
     "text": [
      "Maximum:  5.481430645149045\n",
      "Minimum:  -5.623150476680233\n",
      "Mean:  0.00020129718632848242\n",
      "Median:  8.048399374247425e-05\n"
     ]
    }
   ],
   "source": [
    "#now to demonstrate some useful numpy mathematical functions!\n",
    "\n",
    "print('Maximum: ', np.max(normal_dist))\n",
    "print('Minimum: ', np.min(normal_dist))\n",
    "print('Mean: ', np.mean(normal_dist))\n",
    "print('Median: ', np.median(normal_dist))"
   ]
  },
  {
   "cell_type": "markdown",
   "metadata": {},
   "source": [
    "This is great! we have a very large amount of data stored in memory that is quickly and efficiently accessible. But how do we access it? What if we want to filter or clean it?"
   ]
  },
  {
   "cell_type": "markdown",
   "metadata": {},
   "source": [
    "## Pandas - Dataframe Time"
   ]
  },
  {
   "cell_type": "code",
   "execution_count": 166,
   "metadata": {},
   "outputs": [],
   "source": [
    "#using pandas, we can turn our arrays of information into tabular datasets that are easier to visualize, conceptualize, organize, and label\n",
    "\n",
    "my_df = pd.DataFrame(normal_dist)"
   ]
  },
  {
   "cell_type": "code",
   "execution_count": 165,
   "metadata": {},
   "outputs": [
    {
     "data": {
      "text/html": [
       "<div>\n",
       "<style scoped>\n",
       "    .dataframe tbody tr th:only-of-type {\n",
       "        vertical-align: middle;\n",
       "    }\n",
       "\n",
       "    .dataframe tbody tr th {\n",
       "        vertical-align: top;\n",
       "    }\n",
       "\n",
       "    .dataframe thead th {\n",
       "        text-align: right;\n",
       "    }\n",
       "</style>\n",
       "<table border=\"1\" class=\"dataframe\">\n",
       "  <thead>\n",
       "    <tr style=\"text-align: right;\">\n",
       "      <th></th>\n",
       "      <th>0</th>\n",
       "      <th>1</th>\n",
       "      <th>2</th>\n",
       "      <th>3</th>\n",
       "      <th>4</th>\n",
       "      <th>5</th>\n",
       "      <th>6</th>\n",
       "      <th>7</th>\n",
       "      <th>8</th>\n",
       "      <th>9</th>\n",
       "      <th>...</th>\n",
       "      <th>4990</th>\n",
       "      <th>4991</th>\n",
       "      <th>4992</th>\n",
       "      <th>4993</th>\n",
       "      <th>4994</th>\n",
       "      <th>4995</th>\n",
       "      <th>4996</th>\n",
       "      <th>4997</th>\n",
       "      <th>4998</th>\n",
       "      <th>4999</th>\n",
       "    </tr>\n",
       "  </thead>\n",
       "  <tbody>\n",
       "    <tr>\n",
       "      <td>0</td>\n",
       "      <td>-0.335681</td>\n",
       "      <td>-0.663150</td>\n",
       "      <td>1.457778</td>\n",
       "      <td>0.787032</td>\n",
       "      <td>0.120214</td>\n",
       "      <td>0.153448</td>\n",
       "      <td>-0.653850</td>\n",
       "      <td>0.373681</td>\n",
       "      <td>-0.590772</td>\n",
       "      <td>-0.780924</td>\n",
       "      <td>...</td>\n",
       "      <td>1.876187</td>\n",
       "      <td>1.113607</td>\n",
       "      <td>0.598111</td>\n",
       "      <td>0.494644</td>\n",
       "      <td>1.864319</td>\n",
       "      <td>-0.502512</td>\n",
       "      <td>-0.811580</td>\n",
       "      <td>1.863815</td>\n",
       "      <td>-0.134474</td>\n",
       "      <td>-0.775351</td>\n",
       "    </tr>\n",
       "    <tr>\n",
       "      <td>1</td>\n",
       "      <td>-0.042545</td>\n",
       "      <td>0.510325</td>\n",
       "      <td>-0.808779</td>\n",
       "      <td>-0.162707</td>\n",
       "      <td>-0.007209</td>\n",
       "      <td>1.735873</td>\n",
       "      <td>-0.547983</td>\n",
       "      <td>1.104754</td>\n",
       "      <td>0.121812</td>\n",
       "      <td>0.470974</td>\n",
       "      <td>...</td>\n",
       "      <td>-1.636524</td>\n",
       "      <td>-0.104972</td>\n",
       "      <td>1.657960</td>\n",
       "      <td>0.640514</td>\n",
       "      <td>-0.505413</td>\n",
       "      <td>-0.407460</td>\n",
       "      <td>-1.279868</td>\n",
       "      <td>-0.716876</td>\n",
       "      <td>-0.894060</td>\n",
       "      <td>-0.983043</td>\n",
       "    </tr>\n",
       "    <tr>\n",
       "      <td>2</td>\n",
       "      <td>-0.514905</td>\n",
       "      <td>1.771863</td>\n",
       "      <td>0.654549</td>\n",
       "      <td>0.334993</td>\n",
       "      <td>-0.365891</td>\n",
       "      <td>0.472825</td>\n",
       "      <td>-1.255581</td>\n",
       "      <td>0.291043</td>\n",
       "      <td>-0.750733</td>\n",
       "      <td>-0.974926</td>\n",
       "      <td>...</td>\n",
       "      <td>2.665389</td>\n",
       "      <td>0.240521</td>\n",
       "      <td>-0.044802</td>\n",
       "      <td>-0.135828</td>\n",
       "      <td>-1.399066</td>\n",
       "      <td>-1.159778</td>\n",
       "      <td>0.650618</td>\n",
       "      <td>-1.257107</td>\n",
       "      <td>0.788263</td>\n",
       "      <td>0.287751</td>\n",
       "    </tr>\n",
       "    <tr>\n",
       "      <td>3</td>\n",
       "      <td>-0.535211</td>\n",
       "      <td>0.113675</td>\n",
       "      <td>-0.129671</td>\n",
       "      <td>0.509858</td>\n",
       "      <td>-0.564887</td>\n",
       "      <td>1.408461</td>\n",
       "      <td>-0.877819</td>\n",
       "      <td>0.361516</td>\n",
       "      <td>1.512765</td>\n",
       "      <td>-1.585763</td>\n",
       "      <td>...</td>\n",
       "      <td>0.293906</td>\n",
       "      <td>-1.482045</td>\n",
       "      <td>0.193400</td>\n",
       "      <td>-1.037899</td>\n",
       "      <td>1.617379</td>\n",
       "      <td>2.087706</td>\n",
       "      <td>2.072030</td>\n",
       "      <td>-2.922055</td>\n",
       "      <td>-1.304099</td>\n",
       "      <td>-0.502429</td>\n",
       "    </tr>\n",
       "    <tr>\n",
       "      <td>4</td>\n",
       "      <td>-1.098181</td>\n",
       "      <td>-0.355246</td>\n",
       "      <td>0.491207</td>\n",
       "      <td>1.283729</td>\n",
       "      <td>2.068363</td>\n",
       "      <td>1.905082</td>\n",
       "      <td>-0.278607</td>\n",
       "      <td>0.195504</td>\n",
       "      <td>0.049548</td>\n",
       "      <td>1.911256</td>\n",
       "      <td>...</td>\n",
       "      <td>-1.646869</td>\n",
       "      <td>0.485079</td>\n",
       "      <td>0.288986</td>\n",
       "      <td>-1.032379</td>\n",
       "      <td>0.643184</td>\n",
       "      <td>-0.557427</td>\n",
       "      <td>-1.059477</td>\n",
       "      <td>-0.389668</td>\n",
       "      <td>-0.749974</td>\n",
       "      <td>-0.074166</td>\n",
       "    </tr>\n",
       "    <tr>\n",
       "      <td>...</td>\n",
       "      <td>...</td>\n",
       "      <td>...</td>\n",
       "      <td>...</td>\n",
       "      <td>...</td>\n",
       "      <td>...</td>\n",
       "      <td>...</td>\n",
       "      <td>...</td>\n",
       "      <td>...</td>\n",
       "      <td>...</td>\n",
       "      <td>...</td>\n",
       "      <td>...</td>\n",
       "      <td>...</td>\n",
       "      <td>...</td>\n",
       "      <td>...</td>\n",
       "      <td>...</td>\n",
       "      <td>...</td>\n",
       "      <td>...</td>\n",
       "      <td>...</td>\n",
       "      <td>...</td>\n",
       "      <td>...</td>\n",
       "      <td>...</td>\n",
       "    </tr>\n",
       "    <tr>\n",
       "      <td>4995</td>\n",
       "      <td>1.599548</td>\n",
       "      <td>-0.325609</td>\n",
       "      <td>-1.788815</td>\n",
       "      <td>0.552142</td>\n",
       "      <td>1.269707</td>\n",
       "      <td>-1.136924</td>\n",
       "      <td>1.012793</td>\n",
       "      <td>0.383190</td>\n",
       "      <td>1.282783</td>\n",
       "      <td>0.695488</td>\n",
       "      <td>...</td>\n",
       "      <td>1.951320</td>\n",
       "      <td>-1.918427</td>\n",
       "      <td>2.343651</td>\n",
       "      <td>-0.712921</td>\n",
       "      <td>0.377301</td>\n",
       "      <td>0.756064</td>\n",
       "      <td>-0.551904</td>\n",
       "      <td>0.850333</td>\n",
       "      <td>0.716849</td>\n",
       "      <td>1.702960</td>\n",
       "    </tr>\n",
       "    <tr>\n",
       "      <td>4996</td>\n",
       "      <td>0.044692</td>\n",
       "      <td>-0.112023</td>\n",
       "      <td>-0.427498</td>\n",
       "      <td>0.923362</td>\n",
       "      <td>0.733621</td>\n",
       "      <td>-1.136589</td>\n",
       "      <td>0.111429</td>\n",
       "      <td>-0.752227</td>\n",
       "      <td>0.358829</td>\n",
       "      <td>0.828592</td>\n",
       "      <td>...</td>\n",
       "      <td>0.139978</td>\n",
       "      <td>-0.502293</td>\n",
       "      <td>-1.013697</td>\n",
       "      <td>-0.132111</td>\n",
       "      <td>-0.930818</td>\n",
       "      <td>-0.365985</td>\n",
       "      <td>-0.593482</td>\n",
       "      <td>2.130003</td>\n",
       "      <td>-0.326951</td>\n",
       "      <td>0.086925</td>\n",
       "    </tr>\n",
       "    <tr>\n",
       "      <td>4997</td>\n",
       "      <td>-0.825394</td>\n",
       "      <td>-1.258997</td>\n",
       "      <td>0.218687</td>\n",
       "      <td>-0.547427</td>\n",
       "      <td>-0.817159</td>\n",
       "      <td>0.626131</td>\n",
       "      <td>-2.527093</td>\n",
       "      <td>-0.337165</td>\n",
       "      <td>-1.457280</td>\n",
       "      <td>0.015133</td>\n",
       "      <td>...</td>\n",
       "      <td>0.274871</td>\n",
       "      <td>-0.356658</td>\n",
       "      <td>2.198391</td>\n",
       "      <td>-0.016735</td>\n",
       "      <td>-2.089562</td>\n",
       "      <td>-0.206272</td>\n",
       "      <td>1.125539</td>\n",
       "      <td>-0.584557</td>\n",
       "      <td>0.214147</td>\n",
       "      <td>-0.528048</td>\n",
       "    </tr>\n",
       "    <tr>\n",
       "      <td>4998</td>\n",
       "      <td>1.350842</td>\n",
       "      <td>-1.703804</td>\n",
       "      <td>-1.335627</td>\n",
       "      <td>-0.044188</td>\n",
       "      <td>-0.420970</td>\n",
       "      <td>-0.666926</td>\n",
       "      <td>1.635590</td>\n",
       "      <td>1.020904</td>\n",
       "      <td>0.676716</td>\n",
       "      <td>-0.250876</td>\n",
       "      <td>...</td>\n",
       "      <td>-0.627006</td>\n",
       "      <td>1.903393</td>\n",
       "      <td>0.523005</td>\n",
       "      <td>2.002542</td>\n",
       "      <td>-1.256943</td>\n",
       "      <td>-0.200601</td>\n",
       "      <td>-1.118389</td>\n",
       "      <td>-0.226268</td>\n",
       "      <td>1.337086</td>\n",
       "      <td>-1.600526</td>\n",
       "    </tr>\n",
       "    <tr>\n",
       "      <td>4999</td>\n",
       "      <td>-1.672602</td>\n",
       "      <td>0.674793</td>\n",
       "      <td>0.073091</td>\n",
       "      <td>1.031642</td>\n",
       "      <td>0.113495</td>\n",
       "      <td>0.345346</td>\n",
       "      <td>0.191476</td>\n",
       "      <td>-0.492793</td>\n",
       "      <td>-0.292966</td>\n",
       "      <td>0.726182</td>\n",
       "      <td>...</td>\n",
       "      <td>0.748582</td>\n",
       "      <td>0.165257</td>\n",
       "      <td>-0.049816</td>\n",
       "      <td>0.656639</td>\n",
       "      <td>0.175704</td>\n",
       "      <td>1.016764</td>\n",
       "      <td>1.979287</td>\n",
       "      <td>-0.429808</td>\n",
       "      <td>0.232554</td>\n",
       "      <td>0.054873</td>\n",
       "    </tr>\n",
       "  </tbody>\n",
       "</table>\n",
       "<p>5000 rows × 5000 columns</p>\n",
       "</div>"
      ],
      "text/plain": [
       "          0         1         2         3         4         5         6     \\\n",
       "0    -0.335681 -0.663150  1.457778  0.787032  0.120214  0.153448 -0.653850   \n",
       "1    -0.042545  0.510325 -0.808779 -0.162707 -0.007209  1.735873 -0.547983   \n",
       "2    -0.514905  1.771863  0.654549  0.334993 -0.365891  0.472825 -1.255581   \n",
       "3    -0.535211  0.113675 -0.129671  0.509858 -0.564887  1.408461 -0.877819   \n",
       "4    -1.098181 -0.355246  0.491207  1.283729  2.068363  1.905082 -0.278607   \n",
       "...        ...       ...       ...       ...       ...       ...       ...   \n",
       "4995  1.599548 -0.325609 -1.788815  0.552142  1.269707 -1.136924  1.012793   \n",
       "4996  0.044692 -0.112023 -0.427498  0.923362  0.733621 -1.136589  0.111429   \n",
       "4997 -0.825394 -1.258997  0.218687 -0.547427 -0.817159  0.626131 -2.527093   \n",
       "4998  1.350842 -1.703804 -1.335627 -0.044188 -0.420970 -0.666926  1.635590   \n",
       "4999 -1.672602  0.674793  0.073091  1.031642  0.113495  0.345346  0.191476   \n",
       "\n",
       "          7         8         9     ...      4990      4991      4992  \\\n",
       "0     0.373681 -0.590772 -0.780924  ...  1.876187  1.113607  0.598111   \n",
       "1     1.104754  0.121812  0.470974  ... -1.636524 -0.104972  1.657960   \n",
       "2     0.291043 -0.750733 -0.974926  ...  2.665389  0.240521 -0.044802   \n",
       "3     0.361516  1.512765 -1.585763  ...  0.293906 -1.482045  0.193400   \n",
       "4     0.195504  0.049548  1.911256  ... -1.646869  0.485079  0.288986   \n",
       "...        ...       ...       ...  ...       ...       ...       ...   \n",
       "4995  0.383190  1.282783  0.695488  ...  1.951320 -1.918427  2.343651   \n",
       "4996 -0.752227  0.358829  0.828592  ...  0.139978 -0.502293 -1.013697   \n",
       "4997 -0.337165 -1.457280  0.015133  ...  0.274871 -0.356658  2.198391   \n",
       "4998  1.020904  0.676716 -0.250876  ... -0.627006  1.903393  0.523005   \n",
       "4999 -0.492793 -0.292966  0.726182  ...  0.748582  0.165257 -0.049816   \n",
       "\n",
       "          4993      4994      4995      4996      4997      4998      4999  \n",
       "0     0.494644  1.864319 -0.502512 -0.811580  1.863815 -0.134474 -0.775351  \n",
       "1     0.640514 -0.505413 -0.407460 -1.279868 -0.716876 -0.894060 -0.983043  \n",
       "2    -0.135828 -1.399066 -1.159778  0.650618 -1.257107  0.788263  0.287751  \n",
       "3    -1.037899  1.617379  2.087706  2.072030 -2.922055 -1.304099 -0.502429  \n",
       "4    -1.032379  0.643184 -0.557427 -1.059477 -0.389668 -0.749974 -0.074166  \n",
       "...        ...       ...       ...       ...       ...       ...       ...  \n",
       "4995 -0.712921  0.377301  0.756064 -0.551904  0.850333  0.716849  1.702960  \n",
       "4996 -0.132111 -0.930818 -0.365985 -0.593482  2.130003 -0.326951  0.086925  \n",
       "4997 -0.016735 -2.089562 -0.206272  1.125539 -0.584557  0.214147 -0.528048  \n",
       "4998  2.002542 -1.256943 -0.200601 -1.118389 -0.226268  1.337086 -1.600526  \n",
       "4999  0.656639  0.175704  1.016764  1.979287 -0.429808  0.232554  0.054873  \n",
       "\n",
       "[5000 rows x 5000 columns]"
      ]
     },
     "execution_count": 165,
     "metadata": {},
     "output_type": "execute_result"
    }
   ],
   "source": [
    "my_df"
   ]
  },
  {
   "cell_type": "code",
   "execution_count": 168,
   "metadata": {},
   "outputs": [
    {
     "data": {
      "text/html": [
       "<div>\n",
       "<style scoped>\n",
       "    .dataframe tbody tr th:only-of-type {\n",
       "        vertical-align: middle;\n",
       "    }\n",
       "\n",
       "    .dataframe tbody tr th {\n",
       "        vertical-align: top;\n",
       "    }\n",
       "\n",
       "    .dataframe thead th {\n",
       "        text-align: right;\n",
       "    }\n",
       "</style>\n",
       "<table border=\"1\" class=\"dataframe\">\n",
       "  <thead>\n",
       "    <tr style=\"text-align: right;\">\n",
       "      <th></th>\n",
       "      <th>0</th>\n",
       "      <th>1</th>\n",
       "      <th>2</th>\n",
       "      <th>3</th>\n",
       "      <th>4</th>\n",
       "      <th>5</th>\n",
       "      <th>6</th>\n",
       "      <th>7</th>\n",
       "      <th>8</th>\n",
       "      <th>9</th>\n",
       "      <th>...</th>\n",
       "      <th>4990</th>\n",
       "      <th>4991</th>\n",
       "      <th>4992</th>\n",
       "      <th>4993</th>\n",
       "      <th>4994</th>\n",
       "      <th>4995</th>\n",
       "      <th>4996</th>\n",
       "      <th>4997</th>\n",
       "      <th>4998</th>\n",
       "      <th>4999</th>\n",
       "    </tr>\n",
       "  </thead>\n",
       "  <tbody>\n",
       "    <tr>\n",
       "      <td>0</td>\n",
       "      <td>-0.335681</td>\n",
       "      <td>-0.663150</td>\n",
       "      <td>1.457778</td>\n",
       "      <td>0.787032</td>\n",
       "      <td>0.120214</td>\n",
       "      <td>0.153448</td>\n",
       "      <td>-0.653850</td>\n",
       "      <td>0.373681</td>\n",
       "      <td>-0.590772</td>\n",
       "      <td>-0.780924</td>\n",
       "      <td>...</td>\n",
       "      <td>1.876187</td>\n",
       "      <td>1.113607</td>\n",
       "      <td>0.598111</td>\n",
       "      <td>0.494644</td>\n",
       "      <td>1.864319</td>\n",
       "      <td>-0.502512</td>\n",
       "      <td>-0.811580</td>\n",
       "      <td>1.863815</td>\n",
       "      <td>-0.134474</td>\n",
       "      <td>-0.775351</td>\n",
       "    </tr>\n",
       "    <tr>\n",
       "      <td>1</td>\n",
       "      <td>-0.042545</td>\n",
       "      <td>0.510325</td>\n",
       "      <td>-0.808779</td>\n",
       "      <td>-0.162707</td>\n",
       "      <td>-0.007209</td>\n",
       "      <td>1.735873</td>\n",
       "      <td>-0.547983</td>\n",
       "      <td>1.104754</td>\n",
       "      <td>0.121812</td>\n",
       "      <td>0.470974</td>\n",
       "      <td>...</td>\n",
       "      <td>-1.636524</td>\n",
       "      <td>-0.104972</td>\n",
       "      <td>1.657960</td>\n",
       "      <td>0.640514</td>\n",
       "      <td>-0.505413</td>\n",
       "      <td>-0.407460</td>\n",
       "      <td>-1.279868</td>\n",
       "      <td>-0.716876</td>\n",
       "      <td>-0.894060</td>\n",
       "      <td>-0.983043</td>\n",
       "    </tr>\n",
       "    <tr>\n",
       "      <td>2</td>\n",
       "      <td>-0.514905</td>\n",
       "      <td>1.771863</td>\n",
       "      <td>0.654549</td>\n",
       "      <td>0.334993</td>\n",
       "      <td>-0.365891</td>\n",
       "      <td>0.472825</td>\n",
       "      <td>-1.255581</td>\n",
       "      <td>0.291043</td>\n",
       "      <td>-0.750733</td>\n",
       "      <td>-0.974926</td>\n",
       "      <td>...</td>\n",
       "      <td>2.665389</td>\n",
       "      <td>0.240521</td>\n",
       "      <td>-0.044802</td>\n",
       "      <td>-0.135828</td>\n",
       "      <td>-1.399066</td>\n",
       "      <td>-1.159778</td>\n",
       "      <td>0.650618</td>\n",
       "      <td>-1.257107</td>\n",
       "      <td>0.788263</td>\n",
       "      <td>0.287751</td>\n",
       "    </tr>\n",
       "    <tr>\n",
       "      <td>3</td>\n",
       "      <td>-0.535211</td>\n",
       "      <td>0.113675</td>\n",
       "      <td>-0.129671</td>\n",
       "      <td>0.509858</td>\n",
       "      <td>-0.564887</td>\n",
       "      <td>1.408461</td>\n",
       "      <td>-0.877819</td>\n",
       "      <td>0.361516</td>\n",
       "      <td>1.512765</td>\n",
       "      <td>-1.585763</td>\n",
       "      <td>...</td>\n",
       "      <td>0.293906</td>\n",
       "      <td>-1.482045</td>\n",
       "      <td>0.193400</td>\n",
       "      <td>-1.037899</td>\n",
       "      <td>1.617379</td>\n",
       "      <td>2.087706</td>\n",
       "      <td>2.072030</td>\n",
       "      <td>-2.922055</td>\n",
       "      <td>-1.304099</td>\n",
       "      <td>-0.502429</td>\n",
       "    </tr>\n",
       "    <tr>\n",
       "      <td>4</td>\n",
       "      <td>-1.098181</td>\n",
       "      <td>-0.355246</td>\n",
       "      <td>0.491207</td>\n",
       "      <td>1.283729</td>\n",
       "      <td>2.068363</td>\n",
       "      <td>1.905082</td>\n",
       "      <td>-0.278607</td>\n",
       "      <td>0.195504</td>\n",
       "      <td>0.049548</td>\n",
       "      <td>1.911256</td>\n",
       "      <td>...</td>\n",
       "      <td>-1.646869</td>\n",
       "      <td>0.485079</td>\n",
       "      <td>0.288986</td>\n",
       "      <td>-1.032379</td>\n",
       "      <td>0.643184</td>\n",
       "      <td>-0.557427</td>\n",
       "      <td>-1.059477</td>\n",
       "      <td>-0.389668</td>\n",
       "      <td>-0.749974</td>\n",
       "      <td>-0.074166</td>\n",
       "    </tr>\n",
       "  </tbody>\n",
       "</table>\n",
       "<p>5 rows × 5000 columns</p>\n",
       "</div>"
      ],
      "text/plain": [
       "       0         1         2         3         4         5         6     \\\n",
       "0 -0.335681 -0.663150  1.457778  0.787032  0.120214  0.153448 -0.653850   \n",
       "1 -0.042545  0.510325 -0.808779 -0.162707 -0.007209  1.735873 -0.547983   \n",
       "2 -0.514905  1.771863  0.654549  0.334993 -0.365891  0.472825 -1.255581   \n",
       "3 -0.535211  0.113675 -0.129671  0.509858 -0.564887  1.408461 -0.877819   \n",
       "4 -1.098181 -0.355246  0.491207  1.283729  2.068363  1.905082 -0.278607   \n",
       "\n",
       "       7         8         9     ...      4990      4991      4992      4993  \\\n",
       "0  0.373681 -0.590772 -0.780924  ...  1.876187  1.113607  0.598111  0.494644   \n",
       "1  1.104754  0.121812  0.470974  ... -1.636524 -0.104972  1.657960  0.640514   \n",
       "2  0.291043 -0.750733 -0.974926  ...  2.665389  0.240521 -0.044802 -0.135828   \n",
       "3  0.361516  1.512765 -1.585763  ...  0.293906 -1.482045  0.193400 -1.037899   \n",
       "4  0.195504  0.049548  1.911256  ... -1.646869  0.485079  0.288986 -1.032379   \n",
       "\n",
       "       4994      4995      4996      4997      4998      4999  \n",
       "0  1.864319 -0.502512 -0.811580  1.863815 -0.134474 -0.775351  \n",
       "1 -0.505413 -0.407460 -1.279868 -0.716876 -0.894060 -0.983043  \n",
       "2 -1.399066 -1.159778  0.650618 -1.257107  0.788263  0.287751  \n",
       "3  1.617379  2.087706  2.072030 -2.922055 -1.304099 -0.502429  \n",
       "4  0.643184 -0.557427 -1.059477 -0.389668 -0.749974 -0.074166  \n",
       "\n",
       "[5 rows x 5000 columns]"
      ]
     },
     "execution_count": 168,
     "metadata": {},
     "output_type": "execute_result"
    }
   ],
   "source": [
    "#okay, it is kind of obnoxious to print all of that out, but it is nice to see a representative sample of our data so we know what we're working with!\n",
    "#pandas got us covered B)\n",
    "\n",
    "my_df.head()"
   ]
  },
  {
   "cell_type": "markdown",
   "metadata": {},
   "source": [
    "Pandas dataframe are made up of multidimensional arrays with indices (row labels) and columns (column labels). You can almost think of them like a flexible dictionary of arrays, where the keys are the column headers, and the values are the arrays that fall under that column header\n",
    "\n",
    "\n",
    "this makes it very easy to access certain parts of your data based on name or classification. Unfortunately, just importing a huge array that does not contain any of these labels yet auto-assigns both rows and columns to numbers"
   ]
  },
  {
   "cell_type": "code",
   "execution_count": 176,
   "metadata": {},
   "outputs": [
    {
     "data": {
      "text/plain": [
       "RangeIndex(start=0, stop=5000, step=1)"
      ]
     },
     "execution_count": 176,
     "metadata": {},
     "output_type": "execute_result"
    }
   ],
   "source": [
    "rows = my_df.index\n",
    "\n",
    "rows"
   ]
  },
  {
   "cell_type": "code",
   "execution_count": 177,
   "metadata": {},
   "outputs": [
    {
     "data": {
      "text/plain": [
       "RangeIndex(start=0, stop=5000, step=1)"
      ]
     },
     "execution_count": 177,
     "metadata": {},
     "output_type": "execute_result"
    }
   ],
   "source": [
    "columns = my_df.columns\n",
    "\n",
    "columns"
   ]
  },
  {
   "cell_type": "code",
   "execution_count": 180,
   "metadata": {},
   "outputs": [
    {
     "name": "stdout",
     "output_type": "stream",
     "text": [
      "0.46985349670668747\n",
      "0.46985349670668747\n"
     ]
    }
   ],
   "source": [
    "#we can still index into a dataframe like it a normal multidimensional array! - if we want\n",
    "\n",
    "print(my_df[45][45])\n",
    "print(normal_dist[45][45])"
   ]
  },
  {
   "cell_type": "markdown",
   "metadata": {},
   "source": [
    "### Actually, this is a good time to learn for loops and if statements!!"
   ]
  },
  {
   "cell_type": "markdown",
   "metadata": {},
   "source": [
    "# *(3) Basic For Loops and If Statements in Python for Data Cleanup*\n",
    "\n",
    "\n",
    "---\n",
    "\n",
    "\n",
    "- if statements are used to iterate through a certain range or piece of data, and perform some type of operation on that data\n",
    "- these are super flexible, and take a little bit to learn, but the ceiling is quite high"
   ]
  },
  {
   "cell_type": "code",
   "execution_count": 200,
   "metadata": {},
   "outputs": [
    {
     "name": "stdout",
     "output_type": "stream",
     "text": [
      "[2 4 6]\n",
      "[1 2 3]\n"
     ]
    }
   ],
   "source": [
    "for i in my_arr:\n",
    "    print(i)"
   ]
  },
  {
   "cell_type": "code",
   "execution_count": 204,
   "metadata": {},
   "outputs": [
    {
     "name": "stdout",
     "output_type": "stream",
     "text": [
      "That makes sense\n"
     ]
    }
   ],
   "source": [
    "if my_arr[0][1] == my_arr[1][1]:\n",
    "    print('That is Weird')\n",
    "    \n",
    "if my_arr[0][1] != my_arr[1][1]:\n",
    "    print('That makes sense')"
   ]
  },
  {
   "cell_type": "code",
   "execution_count": 198,
   "metadata": {},
   "outputs": [
    {
     "name": "stdout",
     "output_type": "stream",
     "text": [
      "Wall time: 287 ms\n"
     ]
    }
   ],
   "source": [
    "%%time\n",
    "\n",
    "report = []\n",
    "\n",
    "for i in my_df:\n",
    "    if my_df[i][i] == normal_dist[i][i]:\n",
    "        report = np.append(report, 'We Succeeded!')\n",
    "    if my_df[i][i] != normal_dist[i][i]:\n",
    "        print('We Failed!')"
   ]
  },
  {
   "cell_type": "code",
   "execution_count": 199,
   "metadata": {},
   "outputs": [
    {
     "name": "stdout",
     "output_type": "stream",
     "text": [
      "Wall time: 365 ms\n"
     ]
    }
   ],
   "source": [
    "%%time\n",
    "\n",
    "report_2 = []\n",
    "\n",
    "for i in my_df:\n",
    "    if my_df[i][i] != normal_dist[i][i]:\n",
    "        print('We failed')\n",
    "    else:\n",
    "        report_2 = np.append(report, 'We Succeeded!')"
   ]
  },
  {
   "cell_type": "code",
   "execution_count": 207,
   "metadata": {},
   "outputs": [],
   "source": [
    "for i in range(len(my_df[1][:])):\n",
    "    my_df[1][i] = my_df[1][i] + 75"
   ]
  },
  {
   "cell_type": "code",
   "execution_count": 208,
   "metadata": {},
   "outputs": [
    {
     "data": {
      "text/html": [
       "<div>\n",
       "<style scoped>\n",
       "    .dataframe tbody tr th:only-of-type {\n",
       "        vertical-align: middle;\n",
       "    }\n",
       "\n",
       "    .dataframe tbody tr th {\n",
       "        vertical-align: top;\n",
       "    }\n",
       "\n",
       "    .dataframe thead th {\n",
       "        text-align: right;\n",
       "    }\n",
       "</style>\n",
       "<table border=\"1\" class=\"dataframe\">\n",
       "  <thead>\n",
       "    <tr style=\"text-align: right;\">\n",
       "      <th></th>\n",
       "      <th>0</th>\n",
       "      <th>1</th>\n",
       "      <th>2</th>\n",
       "      <th>3</th>\n",
       "      <th>4</th>\n",
       "      <th>5</th>\n",
       "      <th>6</th>\n",
       "      <th>7</th>\n",
       "      <th>8</th>\n",
       "      <th>9</th>\n",
       "      <th>...</th>\n",
       "      <th>4990</th>\n",
       "      <th>4991</th>\n",
       "      <th>4992</th>\n",
       "      <th>4993</th>\n",
       "      <th>4994</th>\n",
       "      <th>4995</th>\n",
       "      <th>4996</th>\n",
       "      <th>4997</th>\n",
       "      <th>4998</th>\n",
       "      <th>4999</th>\n",
       "    </tr>\n",
       "  </thead>\n",
       "  <tbody>\n",
       "    <tr>\n",
       "      <td>0</td>\n",
       "      <td>-0.335681</td>\n",
       "      <td>74.336850</td>\n",
       "      <td>1.457778</td>\n",
       "      <td>0.787032</td>\n",
       "      <td>0.120214</td>\n",
       "      <td>0.153448</td>\n",
       "      <td>-0.653850</td>\n",
       "      <td>0.373681</td>\n",
       "      <td>-0.590772</td>\n",
       "      <td>-0.780924</td>\n",
       "      <td>...</td>\n",
       "      <td>1.876187</td>\n",
       "      <td>1.113607</td>\n",
       "      <td>0.598111</td>\n",
       "      <td>0.494644</td>\n",
       "      <td>1.864319</td>\n",
       "      <td>-0.502512</td>\n",
       "      <td>-0.811580</td>\n",
       "      <td>1.863815</td>\n",
       "      <td>-0.134474</td>\n",
       "      <td>-0.775351</td>\n",
       "    </tr>\n",
       "    <tr>\n",
       "      <td>1</td>\n",
       "      <td>-0.042545</td>\n",
       "      <td>75.510325</td>\n",
       "      <td>-0.808779</td>\n",
       "      <td>-0.162707</td>\n",
       "      <td>-0.007209</td>\n",
       "      <td>1.735873</td>\n",
       "      <td>-0.547983</td>\n",
       "      <td>1.104754</td>\n",
       "      <td>0.121812</td>\n",
       "      <td>0.470974</td>\n",
       "      <td>...</td>\n",
       "      <td>-1.636524</td>\n",
       "      <td>-0.104972</td>\n",
       "      <td>1.657960</td>\n",
       "      <td>0.640514</td>\n",
       "      <td>-0.505413</td>\n",
       "      <td>-0.407460</td>\n",
       "      <td>-1.279868</td>\n",
       "      <td>-0.716876</td>\n",
       "      <td>-0.894060</td>\n",
       "      <td>-0.983043</td>\n",
       "    </tr>\n",
       "    <tr>\n",
       "      <td>2</td>\n",
       "      <td>-0.514905</td>\n",
       "      <td>76.771863</td>\n",
       "      <td>0.654549</td>\n",
       "      <td>0.334993</td>\n",
       "      <td>-0.365891</td>\n",
       "      <td>0.472825</td>\n",
       "      <td>-1.255581</td>\n",
       "      <td>0.291043</td>\n",
       "      <td>-0.750733</td>\n",
       "      <td>-0.974926</td>\n",
       "      <td>...</td>\n",
       "      <td>2.665389</td>\n",
       "      <td>0.240521</td>\n",
       "      <td>-0.044802</td>\n",
       "      <td>-0.135828</td>\n",
       "      <td>-1.399066</td>\n",
       "      <td>-1.159778</td>\n",
       "      <td>0.650618</td>\n",
       "      <td>-1.257107</td>\n",
       "      <td>0.788263</td>\n",
       "      <td>0.287751</td>\n",
       "    </tr>\n",
       "    <tr>\n",
       "      <td>3</td>\n",
       "      <td>-0.535211</td>\n",
       "      <td>75.113675</td>\n",
       "      <td>-0.129671</td>\n",
       "      <td>0.509858</td>\n",
       "      <td>-0.564887</td>\n",
       "      <td>1.408461</td>\n",
       "      <td>-0.877819</td>\n",
       "      <td>0.361516</td>\n",
       "      <td>1.512765</td>\n",
       "      <td>-1.585763</td>\n",
       "      <td>...</td>\n",
       "      <td>0.293906</td>\n",
       "      <td>-1.482045</td>\n",
       "      <td>0.193400</td>\n",
       "      <td>-1.037899</td>\n",
       "      <td>1.617379</td>\n",
       "      <td>2.087706</td>\n",
       "      <td>2.072030</td>\n",
       "      <td>-2.922055</td>\n",
       "      <td>-1.304099</td>\n",
       "      <td>-0.502429</td>\n",
       "    </tr>\n",
       "    <tr>\n",
       "      <td>4</td>\n",
       "      <td>-1.098181</td>\n",
       "      <td>74.644754</td>\n",
       "      <td>0.491207</td>\n",
       "      <td>1.283729</td>\n",
       "      <td>2.068363</td>\n",
       "      <td>1.905082</td>\n",
       "      <td>-0.278607</td>\n",
       "      <td>0.195504</td>\n",
       "      <td>0.049548</td>\n",
       "      <td>1.911256</td>\n",
       "      <td>...</td>\n",
       "      <td>-1.646869</td>\n",
       "      <td>0.485079</td>\n",
       "      <td>0.288986</td>\n",
       "      <td>-1.032379</td>\n",
       "      <td>0.643184</td>\n",
       "      <td>-0.557427</td>\n",
       "      <td>-1.059477</td>\n",
       "      <td>-0.389668</td>\n",
       "      <td>-0.749974</td>\n",
       "      <td>-0.074166</td>\n",
       "    </tr>\n",
       "  </tbody>\n",
       "</table>\n",
       "<p>5 rows × 5000 columns</p>\n",
       "</div>"
      ],
      "text/plain": [
       "       0          1         2         3         4         5         6     \\\n",
       "0 -0.335681  74.336850  1.457778  0.787032  0.120214  0.153448 -0.653850   \n",
       "1 -0.042545  75.510325 -0.808779 -0.162707 -0.007209  1.735873 -0.547983   \n",
       "2 -0.514905  76.771863  0.654549  0.334993 -0.365891  0.472825 -1.255581   \n",
       "3 -0.535211  75.113675 -0.129671  0.509858 -0.564887  1.408461 -0.877819   \n",
       "4 -1.098181  74.644754  0.491207  1.283729  2.068363  1.905082 -0.278607   \n",
       "\n",
       "       7         8         9     ...      4990      4991      4992      4993  \\\n",
       "0  0.373681 -0.590772 -0.780924  ...  1.876187  1.113607  0.598111  0.494644   \n",
       "1  1.104754  0.121812  0.470974  ... -1.636524 -0.104972  1.657960  0.640514   \n",
       "2  0.291043 -0.750733 -0.974926  ...  2.665389  0.240521 -0.044802 -0.135828   \n",
       "3  0.361516  1.512765 -1.585763  ...  0.293906 -1.482045  0.193400 -1.037899   \n",
       "4  0.195504  0.049548  1.911256  ... -1.646869  0.485079  0.288986 -1.032379   \n",
       "\n",
       "       4994      4995      4996      4997      4998      4999  \n",
       "0  1.864319 -0.502512 -0.811580  1.863815 -0.134474 -0.775351  \n",
       "1 -0.505413 -0.407460 -1.279868 -0.716876 -0.894060 -0.983043  \n",
       "2 -1.399066 -1.159778  0.650618 -1.257107  0.788263  0.287751  \n",
       "3  1.617379  2.087706  2.072030 -2.922055 -1.304099 -0.502429  \n",
       "4  0.643184 -0.557427 -1.059477 -0.389668 -0.749974 -0.074166  \n",
       "\n",
       "[5 rows x 5000 columns]"
      ]
     },
     "execution_count": 208,
     "metadata": {},
     "output_type": "execute_result"
    }
   ],
   "source": [
    "my_df.head()"
   ]
  },
  {
   "cell_type": "code",
   "execution_count": 210,
   "metadata": {},
   "outputs": [
    {
     "data": {
      "text/plain": [
       "0       74.336850\n",
       "1       75.510325\n",
       "2       76.771863\n",
       "3       75.113675\n",
       "4       74.644754\n",
       "          ...    \n",
       "4995    74.674391\n",
       "4996    74.887977\n",
       "4997    73.741003\n",
       "4998    73.296196\n",
       "4999    75.674793\n",
       "Name: 1, Length: 5000, dtype: float64"
      ]
     },
     "execution_count": 210,
     "metadata": {},
     "output_type": "execute_result"
    }
   ],
   "source": [
    "my_df[1]"
   ]
  },
  {
   "cell_type": "markdown",
   "metadata": {},
   "source": [
    "### Importing Excel and CSV files with pandas"
   ]
  },
  {
   "cell_type": "code",
   "execution_count": 213,
   "metadata": {},
   "outputs": [],
   "source": [
    "#pandas conveniently provides a few functions for import \n",
    "\n",
    "csv_df = pd.read_csv('C:\\\\Users\\\\Minecraft in 4K\\\\Dropbox\\\\personal_backups\\\\python_resources\\\\pandas-jupyterlab-master\\\\data\\\\NC_baby_names_1916.csv')"
   ]
  },
  {
   "cell_type": "code",
   "execution_count": 215,
   "metadata": {},
   "outputs": [
    {
     "data": {
      "text/html": [
       "<div>\n",
       "<style scoped>\n",
       "    .dataframe tbody tr th:only-of-type {\n",
       "        vertical-align: middle;\n",
       "    }\n",
       "\n",
       "    .dataframe tbody tr th {\n",
       "        vertical-align: top;\n",
       "    }\n",
       "\n",
       "    .dataframe thead th {\n",
       "        text-align: right;\n",
       "    }\n",
       "</style>\n",
       "<table border=\"1\" class=\"dataframe\">\n",
       "  <thead>\n",
       "    <tr style=\"text-align: right;\">\n",
       "      <th></th>\n",
       "      <th>sex</th>\n",
       "      <th>name</th>\n",
       "      <th>births</th>\n",
       "    </tr>\n",
       "  </thead>\n",
       "  <tbody>\n",
       "    <tr>\n",
       "      <td>0</td>\n",
       "      <td>F</td>\n",
       "      <td>Mary</td>\n",
       "      <td>2056</td>\n",
       "    </tr>\n",
       "    <tr>\n",
       "      <td>1</td>\n",
       "      <td>F</td>\n",
       "      <td>Annie</td>\n",
       "      <td>770</td>\n",
       "    </tr>\n",
       "    <tr>\n",
       "      <td>2</td>\n",
       "      <td>F</td>\n",
       "      <td>Margaret</td>\n",
       "      <td>726</td>\n",
       "    </tr>\n",
       "    <tr>\n",
       "      <td>3</td>\n",
       "      <td>F</td>\n",
       "      <td>Ruth</td>\n",
       "      <td>692</td>\n",
       "    </tr>\n",
       "    <tr>\n",
       "      <td>4</td>\n",
       "      <td>F</td>\n",
       "      <td>Ruby</td>\n",
       "      <td>544</td>\n",
       "    </tr>\n",
       "  </tbody>\n",
       "</table>\n",
       "</div>"
      ],
      "text/plain": [
       "  sex      name  births\n",
       "0   F      Mary    2056\n",
       "1   F     Annie     770\n",
       "2   F  Margaret     726\n",
       "3   F      Ruth     692\n",
       "4   F      Ruby     544"
      ]
     },
     "execution_count": 215,
     "metadata": {},
     "output_type": "execute_result"
    }
   ],
   "source": [
    "csv_df.head()"
   ]
  },
  {
   "cell_type": "code",
   "execution_count": 216,
   "metadata": {},
   "outputs": [
    {
     "data": {
      "text/plain": [
       "(20, 3)"
      ]
     },
     "execution_count": 216,
     "metadata": {},
     "output_type": "execute_result"
    }
   ],
   "source": [
    "csv_df.shape"
   ]
  },
  {
   "cell_type": "code",
   "execution_count": 235,
   "metadata": {},
   "outputs": [
    {
     "data": {
      "text/html": [
       "<div>\n",
       "<style scoped>\n",
       "    .dataframe tbody tr th:only-of-type {\n",
       "        vertical-align: middle;\n",
       "    }\n",
       "\n",
       "    .dataframe tbody tr th {\n",
       "        vertical-align: top;\n",
       "    }\n",
       "\n",
       "    .dataframe thead th {\n",
       "        text-align: right;\n",
       "    }\n",
       "</style>\n",
       "<table border=\"1\" class=\"dataframe\">\n",
       "  <thead>\n",
       "    <tr style=\"text-align: right;\">\n",
       "      <th></th>\n",
       "      <th>sex</th>\n",
       "      <th>name</th>\n",
       "      <th>births</th>\n",
       "    </tr>\n",
       "  </thead>\n",
       "  <tbody>\n",
       "    <tr>\n",
       "      <td>0</td>\n",
       "      <td>F</td>\n",
       "      <td>Mary</td>\n",
       "      <td>2056</td>\n",
       "    </tr>\n",
       "  </tbody>\n",
       "</table>\n",
       "</div>"
      ],
      "text/plain": [
       "  sex  name  births\n",
       "0   F  Mary    2056"
      ]
     },
     "execution_count": 235,
     "metadata": {},
     "output_type": "execute_result"
    }
   ],
   "source": [
    "#What was the most popular female baby name?\n",
    "\n",
    "csv_df[:][csv_df['births'] == np.max(csv_df['births'][csv_df['sex'] == 'F'])]"
   ]
  },
  {
   "cell_type": "code",
   "execution_count": 236,
   "metadata": {},
   "outputs": [
    {
     "data": {
      "text/html": [
       "<div>\n",
       "<style scoped>\n",
       "    .dataframe tbody tr th:only-of-type {\n",
       "        vertical-align: middle;\n",
       "    }\n",
       "\n",
       "    .dataframe tbody tr th {\n",
       "        vertical-align: top;\n",
       "    }\n",
       "\n",
       "    .dataframe thead th {\n",
       "        text-align: right;\n",
       "    }\n",
       "</style>\n",
       "<table border=\"1\" class=\"dataframe\">\n",
       "  <thead>\n",
       "    <tr style=\"text-align: right;\">\n",
       "      <th></th>\n",
       "      <th>sex</th>\n",
       "      <th>name</th>\n",
       "      <th>births</th>\n",
       "    </tr>\n",
       "  </thead>\n",
       "  <tbody>\n",
       "    <tr>\n",
       "      <td>10</td>\n",
       "      <td>M</td>\n",
       "      <td>James</td>\n",
       "      <td>2083</td>\n",
       "    </tr>\n",
       "  </tbody>\n",
       "</table>\n",
       "</div>"
      ],
      "text/plain": [
       "   sex   name  births\n",
       "10   M  James    2083"
      ]
     },
     "execution_count": 236,
     "metadata": {},
     "output_type": "execute_result"
    }
   ],
   "source": [
    "#What was the most popular male baby name?\n",
    "\n",
    "csv_df[:][csv_df['births'] == np.max(csv_df['births'][csv_df['sex'] == 'M'])]"
   ]
  },
  {
   "cell_type": "code",
   "execution_count": 250,
   "metadata": {},
   "outputs": [
    {
     "data": {
      "text/plain": [
       "(6991, 8839)"
      ]
     },
     "execution_count": 250,
     "metadata": {},
     "output_type": "execute_result"
    }
   ],
   "source": [
    "#How many total male baby names does this dataset contain? What about female? Plot the sums\n",
    "\n",
    "sum_f = 0\n",
    "sum_m = 0\n",
    "\n",
    "for i in range(len(csv_df)):\n",
    "    if csv_df['sex'][i] == 'F':\n",
    "        sum_f = sum_f + csv_df['births'][i]\n",
    "    else:\n",
    "        sum_m = sum_m + csv_df['births'][i]\n",
    "        \n",
    "sum_f, sum_m"
   ]
  },
  {
   "cell_type": "markdown",
   "metadata": {},
   "source": [
    "# *(4) Plotting and Data Visualization in Python*\n",
    "\n",
    "---\n",
    "\n",
    "### Plotting in python is efficient, and can be relatively sophisticated, but in my experience is not as nice or comprehensive as some of the other options out there"
   ]
  },
  {
   "cell_type": "code",
   "execution_count": 245,
   "metadata": {},
   "outputs": [],
   "source": [
    "#for pretty much all plotting in python, the de facto standard is matplotlib, which is a port package from matlab plotting\n",
    "\n",
    "import matplotlib.pyplot as plt"
   ]
  },
  {
   "cell_type": "code",
   "execution_count": 253,
   "metadata": {},
   "outputs": [],
   "source": [
    "xlabels = ['sum of females', 'sum of males']"
   ]
  },
  {
   "cell_type": "code",
   "execution_count": 317,
   "metadata": {},
   "outputs": [
    {
     "data": {
      "image/png": "[encoded data removed]",
      "text/plain": [
       "<Figure size 432x288 with 1 Axes>"
      ]
     },
     "metadata": {
      "needs_background": "light"
     },
     "output_type": "display_data"
    }
   ],
   "source": [
    "plt.bar(xlabels, (sum_f, sum_m), color = 'purple');"
   ]
  },
  {
   "cell_type": "code",
   "execution_count": 316,
   "metadata": {},
   "outputs": [
    {
     "data": {
      "image/png": "[encoded data removed]",
      "text/plain": [
       "<Figure size 1296x360 with 1 Axes>"
      ]
     },
     "metadata": {
      "needs_background": "light"
     },
     "output_type": "display_data"
    }
   ],
   "source": [
    "#this is not a bad option! but tends to be a bit rigid and restrictive\n",
    "\n",
    "f, ax = plt.subplots(figsize=(18,5))\n",
    "cmap = plt.get_cmap(\"tab20c\")\n",
    "plt.bar(csv_df['name'], csv_df['births'], color = cmap(np.array([1, 2, 5, 6, 9, 10])));"
   ]
  },
  {
   "cell_type": "code",
   "execution_count": 279,
   "metadata": {},
   "outputs": [],
   "source": [
    "#seaborn is another plotting package, favored by sum for its slightly more flexible style\n",
    "\n",
    "import seaborn as sns"
   ]
  },
  {
   "cell_type": "code",
   "execution_count": 302,
   "metadata": {},
   "outputs": [
    {
     "data": {
      "image/png": "[encoded data removed]",
      "text/plain": [
       "<Figure size 1296x360 with 1 Axes>"
      ]
     },
     "metadata": {
      "needs_background": "light"
     },
     "output_type": "display_data"
    }
   ],
   "source": [
    "f, ax = plt.subplots(figsize=(18,5))\n",
    "sns.barplot(csv_df['name'], csv_df['births'], hue = csv_df['sex'], palette = 'RdBu');"
   ]
  },
  {
   "cell_type": "code",
   "execution_count": 297,
   "metadata": {},
   "outputs": [
    {
     "data": {
      "image/png": "[encoded data removed]",
      "text/plain": [
       "<Figure size 504x720 with 1 Axes>"
      ]
     },
     "metadata": {
      "needs_background": "light"
     },
     "output_type": "display_data"
    }
   ],
   "source": [
    "f, ax = plt.subplots(figsize=(7,10))\n",
    "sns.boxplot(csv_df['sex'], csv_df['births'], palette = 'husl');"
   ]
  },
  {
   "cell_type": "code",
   "execution_count": 300,
   "metadata": {},
   "outputs": [
    {
     "data": {
      "image/png": "[encoded data removed]",
      "text/plain": [
       "<Figure size 432x288 with 1 Axes>"
      ]
     },
     "metadata": {
      "needs_background": "light"
     },
     "output_type": "display_data"
    }
   ],
   "source": [
    "#and now for everybody's favorite, the violin plot!\n",
    "\n",
    "sns.violinplot(csv_df['sex'], csv_df['births'], palette = 'Set1');"
   ]
  },
  {
   "cell_type": "markdown",
   "metadata": {},
   "source": [
    "### Seaborn color palette IDs can be found at [this link](https://seaborn.pydata.org/generated/seaborn.color_palette.html#seaborn.color_palette)"
   ]
  }
 ],
 "metadata": {
  "kernelspec": {
   "display_name": "Python 3",
   "language": "python",
   "name": "python3"
  },
  "language_info": {
   "codemirror_mode": {
    "name": "ipython",
    "version": 3
   },
   "file_extension": ".py",
   "mimetype": "text/x-python",
   "name": "python",
   "nbconvert_exporter": "python",
   "pygments_lexer": "ipython3",
   "version": "3.7.4"
  }
 },
 "nbformat": 4,
 "nbformat_minor": 4
}
