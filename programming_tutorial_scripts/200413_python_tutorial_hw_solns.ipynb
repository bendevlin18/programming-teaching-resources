{
 "cells": [
  {
   "cell_type": "markdown",
   "metadata": {},
   "source": [
    "# This is a notebook with blank cells for you to run through an example dataset cleaning/analysis\n",
    "- There are multiple ways to do a lot of these steps!\n",
    "- I have included hints/pointers as comments in a few of the steps, in case you get stuck\n",
    "- Our goal will be to extract the large data from a csv file, clean it as necessary, and get some summary statistics"
   ]
  },
  {
   "cell_type": "markdown",
   "metadata": {},
   "source": [
    "### This dataset was taken from the NCBI Gene Expression Omnibus [here](https://www.ncbi.nlm.nih.gov/geo/query/acc.cgi?acc=GSE82187). It was originally published in 2016 [here](https://www.cell.com/cell-reports/fulltext/S2211-1247(16)30813-0?_returnURL=https%3A%2F%2Flinkinghub.elsevier.com%2Fretrieve%2Fpii%2FS2211124716308130%3Fshowall%3Dtrue) and was one of the first studies to perform scRNAseq on a large number of cell types in the striatum of adult mice (at least as far as I can tell)."
   ]
  },
  {
   "cell_type": "markdown",
   "metadata": {},
   "source": [
    "### I have already downloaded and extracted the .csv linked at the bottom of the GEO page, and changed a few things within excel that we can now practice cleaning up. It can be downloaded [here](https://github.com/bdev1238/symmetrical-broccoli). You will need to download that file from github and extract it to work with it."
   ]
  },
  {
   "cell_type": "markdown",
   "metadata": {},
   "source": [
    "### This is a gene expression matrix from this study, that includes partially-processed RNAseq data. Each row represents a cell, whereas each column represents a specific gene. Given this information, the excel file is HUGE, making this a perfect application for python! It is much faster and easier to read this into a dataframe and manipulate it that way."
   ]
  },
  {
   "cell_type": "markdown",
   "metadata": {},
   "source": [
    "-"
   ]
  },
  {
   "cell_type": "markdown",
   "metadata": {},
   "source": [
    "-"
   ]
  },
  {
   "cell_type": "markdown",
   "metadata": {},
   "source": [
    "-"
   ]
  },
  {
   "cell_type": "markdown",
   "metadata": {},
   "source": [
    "-"
   ]
  },
  {
   "cell_type": "markdown",
   "metadata": {},
   "source": [
    "## (1) Start by importing the necessary packages at the top of the notebook, these are almost always numpy and pandas"
   ]
  },
  {
   "cell_type": "code",
   "execution_count": 8,
   "metadata": {},
   "outputs": [],
   "source": [
    "import numpy as np\n",
    "import pandas as pd"
   ]
  },
  {
   "cell_type": "markdown",
   "metadata": {},
   "source": [
    "## (2) Next, you are going to want to read the data into a pandas dataframe, and assign that dataframe a master variable name\n",
    "\n",
    "- Do not worry if it takes a second, this is a large dataset, so on my computer it takes about 30s to load in."
   ]
  },
  {
   "cell_type": "code",
   "execution_count": 25,
   "metadata": {},
   "outputs": [
    {
     "name": "stdout",
     "output_type": "stream",
     "text": [
      "Wall time: 12.2 s\n"
     ]
    }
   ],
   "source": [
    "%%time\n",
    "\n",
    "df = pd.read_csv('H:\\\\DATA\\\\rna_seq_datasets\\\\adult_striatum\\\\gocke2016_taxonomy_mouse_striatum_GSE82187.csv')"
   ]
  },
  {
   "cell_type": "markdown",
   "metadata": {},
   "source": [
    "## (3) Print out the first 5 rows of the dataframe you've just created. How does it look? Are there any notable columns?\n",
    "- How big is the dataframe? You can use shape function to see how many rows and columns it contains.\n",
    "- Any columns that we might want to rename?\n",
    "    - try to keep everything lowercase and use_dashes_instead_of_space\n",
    "- Any columns we may want to drop for simplicity?"
   ]
  },
  {
   "cell_type": "code",
   "execution_count": 32,
   "metadata": {},
   "outputs": [
    {
     "name": "stdout",
     "output_type": "stream",
     "text": [
      "(1208, 16380)\n"
     ]
    },
    {
     "data": {
      "text/html": [
       "<div>\n",
       "<style scoped>\n",
       "    .dataframe tbody tr th:only-of-type {\n",
       "        vertical-align: middle;\n",
       "    }\n",
       "\n",
       "    .dataframe tbody tr th {\n",
       "        vertical-align: top;\n",
       "    }\n",
       "\n",
       "    .dataframe thead th {\n",
       "        text-align: right;\n",
       "    }\n",
       "</style>\n",
       "<table border=\"1\" class=\"dataframe\">\n",
       "  <thead>\n",
       "    <tr style=\"text-align: right;\">\n",
       "      <th></th>\n",
       "      <th>cell_type</th>\n",
       "      <th>0610005C13Rik</th>\n",
       "      <th>0610007C21Rik</th>\n",
       "      <th>0610007L01Rik</th>\n",
       "      <th>0610007N19Rik</th>\n",
       "      <th>0610007P08Rik</th>\n",
       "      <th>0610007P14Rik</th>\n",
       "      <th>0610007P22Rik</th>\n",
       "      <th>0610009B22Rik</th>\n",
       "      <th>0610009D07Rik</th>\n",
       "      <th>...</th>\n",
       "      <th>Xk</th>\n",
       "      <th>Xkr4</th>\n",
       "      <th>Xkr6</th>\n",
       "      <th>Xkr7</th>\n",
       "      <th>Xkr8</th>\n",
       "      <th>Xkrx</th>\n",
       "      <th>Xlr</th>\n",
       "      <th>Xlr3a</th>\n",
       "      <th>Xlr3b</th>\n",
       "      <th>Xlr3c</th>\n",
       "    </tr>\n",
       "  </thead>\n",
       "  <tbody>\n",
       "    <tr>\n",
       "      <th>0</th>\n",
       "      <td>Neuron</td>\n",
       "      <td>0.0</td>\n",
       "      <td>0.000000</td>\n",
       "      <td>0.000000</td>\n",
       "      <td>0.0</td>\n",
       "      <td>0.000000</td>\n",
       "      <td>0.000000</td>\n",
       "      <td>0.000000</td>\n",
       "      <td>0.000000</td>\n",
       "      <td>0.000000</td>\n",
       "      <td>...</td>\n",
       "      <td>1.715036</td>\n",
       "      <td>0.000000</td>\n",
       "      <td>0.000000</td>\n",
       "      <td>0.0</td>\n",
       "      <td>0.000000</td>\n",
       "      <td>0.0</td>\n",
       "      <td>0.0</td>\n",
       "      <td>0.000000</td>\n",
       "      <td>0.0</td>\n",
       "      <td>0.0</td>\n",
       "    </tr>\n",
       "    <tr>\n",
       "      <th>1</th>\n",
       "      <td>Neuron</td>\n",
       "      <td>0.0</td>\n",
       "      <td>1.828000</td>\n",
       "      <td>0.000000</td>\n",
       "      <td>0.0</td>\n",
       "      <td>1.751656</td>\n",
       "      <td>1.702620</td>\n",
       "      <td>0.000000</td>\n",
       "      <td>1.988706</td>\n",
       "      <td>1.795714</td>\n",
       "      <td>...</td>\n",
       "      <td>1.493253</td>\n",
       "      <td>0.000000</td>\n",
       "      <td>2.238984</td>\n",
       "      <td>0.0</td>\n",
       "      <td>0.000000</td>\n",
       "      <td>0.0</td>\n",
       "      <td>0.0</td>\n",
       "      <td>1.769819</td>\n",
       "      <td>0.0</td>\n",
       "      <td>0.0</td>\n",
       "    </tr>\n",
       "    <tr>\n",
       "      <th>2</th>\n",
       "      <td>Neuron</td>\n",
       "      <td>0.0</td>\n",
       "      <td>2.016060</td>\n",
       "      <td>0.000000</td>\n",
       "      <td>0.0</td>\n",
       "      <td>0.000000</td>\n",
       "      <td>2.047177</td>\n",
       "      <td>2.026682</td>\n",
       "      <td>1.426378</td>\n",
       "      <td>1.567832</td>\n",
       "      <td>...</td>\n",
       "      <td>0.000000</td>\n",
       "      <td>0.552569</td>\n",
       "      <td>0.939896</td>\n",
       "      <td>0.0</td>\n",
       "      <td>1.141321</td>\n",
       "      <td>0.0</td>\n",
       "      <td>0.0</td>\n",
       "      <td>0.000000</td>\n",
       "      <td>0.0</td>\n",
       "      <td>0.0</td>\n",
       "    </tr>\n",
       "    <tr>\n",
       "      <th>3</th>\n",
       "      <td>Neuron</td>\n",
       "      <td>0.0</td>\n",
       "      <td>2.547597</td>\n",
       "      <td>3.004959</td>\n",
       "      <td>0.0</td>\n",
       "      <td>0.000000</td>\n",
       "      <td>2.258460</td>\n",
       "      <td>0.000000</td>\n",
       "      <td>1.949213</td>\n",
       "      <td>1.184524</td>\n",
       "      <td>...</td>\n",
       "      <td>0.000000</td>\n",
       "      <td>0.000000</td>\n",
       "      <td>2.459365</td>\n",
       "      <td>0.0</td>\n",
       "      <td>0.000000</td>\n",
       "      <td>0.0</td>\n",
       "      <td>0.0</td>\n",
       "      <td>0.000000</td>\n",
       "      <td>0.0</td>\n",
       "      <td>0.0</td>\n",
       "    </tr>\n",
       "    <tr>\n",
       "      <th>4</th>\n",
       "      <td>Neuron</td>\n",
       "      <td>0.0</td>\n",
       "      <td>0.000000</td>\n",
       "      <td>0.000000</td>\n",
       "      <td>0.0</td>\n",
       "      <td>0.000000</td>\n",
       "      <td>1.727957</td>\n",
       "      <td>0.000000</td>\n",
       "      <td>0.000000</td>\n",
       "      <td>0.000000</td>\n",
       "      <td>...</td>\n",
       "      <td>0.000000</td>\n",
       "      <td>0.000000</td>\n",
       "      <td>1.434977</td>\n",
       "      <td>0.0</td>\n",
       "      <td>0.000000</td>\n",
       "      <td>0.0</td>\n",
       "      <td>0.0</td>\n",
       "      <td>0.000000</td>\n",
       "      <td>0.0</td>\n",
       "      <td>0.0</td>\n",
       "    </tr>\n",
       "  </tbody>\n",
       "</table>\n",
       "<p>5 rows × 16380 columns</p>\n",
       "</div>"
      ],
      "text/plain": [
       "  cell_type  0610005C13Rik  0610007C21Rik  0610007L01Rik  0610007N19Rik  \\\n",
       "0    Neuron            0.0       0.000000       0.000000            0.0   \n",
       "1    Neuron            0.0       1.828000       0.000000            0.0   \n",
       "2    Neuron            0.0       2.016060       0.000000            0.0   \n",
       "3    Neuron            0.0       2.547597       3.004959            0.0   \n",
       "4    Neuron            0.0       0.000000       0.000000            0.0   \n",
       "\n",
       "   0610007P08Rik  0610007P14Rik  0610007P22Rik  0610009B22Rik  0610009D07Rik  \\\n",
       "0       0.000000       0.000000       0.000000       0.000000       0.000000   \n",
       "1       1.751656       1.702620       0.000000       1.988706       1.795714   \n",
       "2       0.000000       2.047177       2.026682       1.426378       1.567832   \n",
       "3       0.000000       2.258460       0.000000       1.949213       1.184524   \n",
       "4       0.000000       1.727957       0.000000       0.000000       0.000000   \n",
       "\n",
       "   ...        Xk      Xkr4      Xkr6  Xkr7      Xkr8  Xkrx  Xlr     Xlr3a  \\\n",
       "0  ...  1.715036  0.000000  0.000000   0.0  0.000000   0.0  0.0  0.000000   \n",
       "1  ...  1.493253  0.000000  2.238984   0.0  0.000000   0.0  0.0  1.769819   \n",
       "2  ...  0.000000  0.552569  0.939896   0.0  1.141321   0.0  0.0  0.000000   \n",
       "3  ...  0.000000  0.000000  2.459365   0.0  0.000000   0.0  0.0  0.000000   \n",
       "4  ...  0.000000  0.000000  1.434977   0.0  0.000000   0.0  0.0  0.000000   \n",
       "\n",
       "   Xlr3b  Xlr3c  \n",
       "0    0.0    0.0  \n",
       "1    0.0    0.0  \n",
       "2    0.0    0.0  \n",
       "3    0.0    0.0  \n",
       "4    0.0    0.0  \n",
       "\n",
       "[5 rows x 16380 columns]"
      ]
     },
     "execution_count": 32,
     "metadata": {},
     "output_type": "execute_result"
    }
   ],
   "source": [
    "print(df.shape)\n",
    "df.head(5)"
   ]
  },
  {
   "cell_type": "markdown",
   "metadata": {},
   "source": [
    "## (4) Rename and drop any columns that you may want to. This is personal preference, but can help moving forward.\n",
    "- Here are a few potential functions that are useful for this purpose\n",
    "    - [df.rename](https://pandas.pydata.org/pandas-docs/stable/reference/api/pandas.DataFrame.rename.html)\n",
    "    - [df.drop](https://pandas.pydata.org/pandas-docs/stable/reference/api/pandas.DataFrame.drop.html)\n",
    "- Reminder to reassign the outputs here to either the same df variable or a new variable! Also feel free to try out the \"inplace\" argument, see what it does!\n",
    "   "
   ]
  },
  {
   "cell_type": "code",
   "execution_count": 27,
   "metadata": {},
   "outputs": [],
   "source": [
    "df.rename(columns = {'type':'cell_type'}, inplace = True)\n",
    "df.drop(columns = ['Unnamed: 0', 'cell.name', 'protocol', 'experiment'], inplace = True)"
   ]
  },
  {
   "cell_type": "code",
   "execution_count": 33,
   "metadata": {},
   "outputs": [
    {
     "data": {
      "text/html": [
       "<div>\n",
       "<style scoped>\n",
       "    .dataframe tbody tr th:only-of-type {\n",
       "        vertical-align: middle;\n",
       "    }\n",
       "\n",
       "    .dataframe tbody tr th {\n",
       "        vertical-align: top;\n",
       "    }\n",
       "\n",
       "    .dataframe thead th {\n",
       "        text-align: right;\n",
       "    }\n",
       "</style>\n",
       "<table border=\"1\" class=\"dataframe\">\n",
       "  <thead>\n",
       "    <tr style=\"text-align: right;\">\n",
       "      <th></th>\n",
       "      <th>cell_type</th>\n",
       "      <th>0610005C13Rik</th>\n",
       "      <th>0610007C21Rik</th>\n",
       "      <th>0610007L01Rik</th>\n",
       "      <th>0610007N19Rik</th>\n",
       "      <th>0610007P08Rik</th>\n",
       "      <th>0610007P14Rik</th>\n",
       "      <th>0610007P22Rik</th>\n",
       "      <th>0610009B22Rik</th>\n",
       "      <th>0610009D07Rik</th>\n",
       "      <th>...</th>\n",
       "      <th>Xk</th>\n",
       "      <th>Xkr4</th>\n",
       "      <th>Xkr6</th>\n",
       "      <th>Xkr7</th>\n",
       "      <th>Xkr8</th>\n",
       "      <th>Xkrx</th>\n",
       "      <th>Xlr</th>\n",
       "      <th>Xlr3a</th>\n",
       "      <th>Xlr3b</th>\n",
       "      <th>Xlr3c</th>\n",
       "    </tr>\n",
       "  </thead>\n",
       "  <tbody>\n",
       "    <tr>\n",
       "      <th>0</th>\n",
       "      <td>Neuron</td>\n",
       "      <td>0.0</td>\n",
       "      <td>0.000000</td>\n",
       "      <td>0.000000</td>\n",
       "      <td>0.0</td>\n",
       "      <td>0.000000</td>\n",
       "      <td>0.000000</td>\n",
       "      <td>0.000000</td>\n",
       "      <td>0.000000</td>\n",
       "      <td>0.000000</td>\n",
       "      <td>...</td>\n",
       "      <td>1.715036</td>\n",
       "      <td>0.000000</td>\n",
       "      <td>0.000000</td>\n",
       "      <td>0.0</td>\n",
       "      <td>0.000000</td>\n",
       "      <td>0.0</td>\n",
       "      <td>0.0</td>\n",
       "      <td>0.000000</td>\n",
       "      <td>0.0</td>\n",
       "      <td>0.0</td>\n",
       "    </tr>\n",
       "    <tr>\n",
       "      <th>1</th>\n",
       "      <td>Neuron</td>\n",
       "      <td>0.0</td>\n",
       "      <td>1.828000</td>\n",
       "      <td>0.000000</td>\n",
       "      <td>0.0</td>\n",
       "      <td>1.751656</td>\n",
       "      <td>1.702620</td>\n",
       "      <td>0.000000</td>\n",
       "      <td>1.988706</td>\n",
       "      <td>1.795714</td>\n",
       "      <td>...</td>\n",
       "      <td>1.493253</td>\n",
       "      <td>0.000000</td>\n",
       "      <td>2.238984</td>\n",
       "      <td>0.0</td>\n",
       "      <td>0.000000</td>\n",
       "      <td>0.0</td>\n",
       "      <td>0.0</td>\n",
       "      <td>1.769819</td>\n",
       "      <td>0.0</td>\n",
       "      <td>0.0</td>\n",
       "    </tr>\n",
       "    <tr>\n",
       "      <th>2</th>\n",
       "      <td>Neuron</td>\n",
       "      <td>0.0</td>\n",
       "      <td>2.016060</td>\n",
       "      <td>0.000000</td>\n",
       "      <td>0.0</td>\n",
       "      <td>0.000000</td>\n",
       "      <td>2.047177</td>\n",
       "      <td>2.026682</td>\n",
       "      <td>1.426378</td>\n",
       "      <td>1.567832</td>\n",
       "      <td>...</td>\n",
       "      <td>0.000000</td>\n",
       "      <td>0.552569</td>\n",
       "      <td>0.939896</td>\n",
       "      <td>0.0</td>\n",
       "      <td>1.141321</td>\n",
       "      <td>0.0</td>\n",
       "      <td>0.0</td>\n",
       "      <td>0.000000</td>\n",
       "      <td>0.0</td>\n",
       "      <td>0.0</td>\n",
       "    </tr>\n",
       "    <tr>\n",
       "      <th>3</th>\n",
       "      <td>Neuron</td>\n",
       "      <td>0.0</td>\n",
       "      <td>2.547597</td>\n",
       "      <td>3.004959</td>\n",
       "      <td>0.0</td>\n",
       "      <td>0.000000</td>\n",
       "      <td>2.258460</td>\n",
       "      <td>0.000000</td>\n",
       "      <td>1.949213</td>\n",
       "      <td>1.184524</td>\n",
       "      <td>...</td>\n",
       "      <td>0.000000</td>\n",
       "      <td>0.000000</td>\n",
       "      <td>2.459365</td>\n",
       "      <td>0.0</td>\n",
       "      <td>0.000000</td>\n",
       "      <td>0.0</td>\n",
       "      <td>0.0</td>\n",
       "      <td>0.000000</td>\n",
       "      <td>0.0</td>\n",
       "      <td>0.0</td>\n",
       "    </tr>\n",
       "    <tr>\n",
       "      <th>4</th>\n",
       "      <td>Neuron</td>\n",
       "      <td>0.0</td>\n",
       "      <td>0.000000</td>\n",
       "      <td>0.000000</td>\n",
       "      <td>0.0</td>\n",
       "      <td>0.000000</td>\n",
       "      <td>1.727957</td>\n",
       "      <td>0.000000</td>\n",
       "      <td>0.000000</td>\n",
       "      <td>0.000000</td>\n",
       "      <td>...</td>\n",
       "      <td>0.000000</td>\n",
       "      <td>0.000000</td>\n",
       "      <td>1.434977</td>\n",
       "      <td>0.0</td>\n",
       "      <td>0.000000</td>\n",
       "      <td>0.0</td>\n",
       "      <td>0.0</td>\n",
       "      <td>0.000000</td>\n",
       "      <td>0.0</td>\n",
       "      <td>0.0</td>\n",
       "    </tr>\n",
       "  </tbody>\n",
       "</table>\n",
       "<p>5 rows × 16380 columns</p>\n",
       "</div>"
      ],
      "text/plain": [
       "  cell_type  0610005C13Rik  0610007C21Rik  0610007L01Rik  0610007N19Rik  \\\n",
       "0    Neuron            0.0       0.000000       0.000000            0.0   \n",
       "1    Neuron            0.0       1.828000       0.000000            0.0   \n",
       "2    Neuron            0.0       2.016060       0.000000            0.0   \n",
       "3    Neuron            0.0       2.547597       3.004959            0.0   \n",
       "4    Neuron            0.0       0.000000       0.000000            0.0   \n",
       "\n",
       "   0610007P08Rik  0610007P14Rik  0610007P22Rik  0610009B22Rik  0610009D07Rik  \\\n",
       "0       0.000000       0.000000       0.000000       0.000000       0.000000   \n",
       "1       1.751656       1.702620       0.000000       1.988706       1.795714   \n",
       "2       0.000000       2.047177       2.026682       1.426378       1.567832   \n",
       "3       0.000000       2.258460       0.000000       1.949213       1.184524   \n",
       "4       0.000000       1.727957       0.000000       0.000000       0.000000   \n",
       "\n",
       "   ...        Xk      Xkr4      Xkr6  Xkr7      Xkr8  Xkrx  Xlr     Xlr3a  \\\n",
       "0  ...  1.715036  0.000000  0.000000   0.0  0.000000   0.0  0.0  0.000000   \n",
       "1  ...  1.493253  0.000000  2.238984   0.0  0.000000   0.0  0.0  1.769819   \n",
       "2  ...  0.000000  0.552569  0.939896   0.0  1.141321   0.0  0.0  0.000000   \n",
       "3  ...  0.000000  0.000000  2.459365   0.0  0.000000   0.0  0.0  0.000000   \n",
       "4  ...  0.000000  0.000000  1.434977   0.0  0.000000   0.0  0.0  0.000000   \n",
       "\n",
       "   Xlr3b  Xlr3c  \n",
       "0    0.0    0.0  \n",
       "1    0.0    0.0  \n",
       "2    0.0    0.0  \n",
       "3    0.0    0.0  \n",
       "4    0.0    0.0  \n",
       "\n",
       "[5 rows x 16380 columns]"
      ]
     },
     "execution_count": 33,
     "metadata": {},
     "output_type": "execute_result"
    }
   ],
   "source": [
    "df.head()"
   ]
  },
  {
   "cell_type": "markdown",
   "metadata": {},
   "source": [
    "## (5) Now that we have adequately cleaned columns, let's explore some of this data! We will probably want to sort by cell type, which is contained in one of the columns.\n",
    "- There are a couple ways to do this:\n",
    "    - One being the [sort_values function](https://pandas.pydata.org/pandas-docs/stable/reference/api/pandas.DataFrame.sort_values.html)\n",
    "        - Try this one first!\n",
    "    - Another being the [groupby function](https://pandas.pydata.org/pandas-docs/stable/reference/api/pandas.DataFrame.groupby.html)\n",
    "        - This one will come in a little bit later, but can be used at this step"
   ]
  },
  {
   "cell_type": "code",
   "execution_count": 34,
   "metadata": {},
   "outputs": [],
   "source": [
    "df.sort_values(by = 'cell_type', inplace = True)"
   ]
  },
  {
   "cell_type": "markdown",
   "metadata": {},
   "source": [
    "## (6) Get the [value_counts](https://pandas.pydata.org/pandas-docs/stable/reference/api/pandas.Series.value_counts.html) of the different cell types contained in this dataset.\n",
    "- This will require indexing just the cell type column to pass that series to this function!"
   ]
  },
  {
   "cell_type": "code",
   "execution_count": 37,
   "metadata": {},
   "outputs": [
    {
     "data": {
      "text/plain": [
       "Neuron             836\n",
       "Astro              106\n",
       "Macrophage          71\n",
       "Microglia           48\n",
       "Vascular            43\n",
       "Oligo               42\n",
       "Ependy-Sec          21\n",
       "Ependy-C            18\n",
       "OPC                 13\n",
       "NSC                  7\n",
       "neuron               1\n",
       "Oligodendrocyte      1\n",
       "Astrocyte            1\n",
       "Name: cell_type, dtype: int64"
      ]
     },
     "execution_count": 37,
     "metadata": {},
     "output_type": "execute_result"
    }
   ],
   "source": [
    "df['cell_type'].value_counts()"
   ]
  },
  {
   "cell_type": "markdown",
   "metadata": {},
   "source": [
    "## (7) Hmmm. It seems that a few cell types are overlapping? Maybe they were misnamed? (I did this don't worry). We should rename those!!\n",
    "- I believe it is for-loop time!\n",
    "- Again, there are many ways to do this, but try to write the code in such a way that it is generalizable to any future datasets!"
   ]
  },
  {
   "cell_type": "code",
   "execution_count": 38,
   "metadata": {},
   "outputs": [
    {
     "name": "stderr",
     "output_type": "stream",
     "text": [
      "D:\\anaconda\\lib\\site-packages\\ipykernel_launcher.py:7: SettingWithCopyWarning: \n",
      "A value is trying to be set on a copy of a slice from a DataFrame\n",
      "\n",
      "See the caveats in the documentation: https://pandas.pydata.org/pandas-docs/stable/user_guide/indexing.html#returning-a-view-versus-a-copy\n",
      "  import sys\n",
      "D:\\anaconda\\lib\\site-packages\\ipykernel_launcher.py:3: SettingWithCopyWarning: \n",
      "A value is trying to be set on a copy of a slice from a DataFrame\n",
      "\n",
      "See the caveats in the documentation: https://pandas.pydata.org/pandas-docs/stable/user_guide/indexing.html#returning-a-view-versus-a-copy\n",
      "  This is separate from the ipykernel package so we can avoid doing imports until\n",
      "D:\\anaconda\\lib\\site-packages\\ipykernel_launcher.py:5: SettingWithCopyWarning: \n",
      "A value is trying to be set on a copy of a slice from a DataFrame\n",
      "\n",
      "See the caveats in the documentation: https://pandas.pydata.org/pandas-docs/stable/user_guide/indexing.html#returning-a-view-versus-a-copy\n",
      "  \"\"\"\n"
     ]
    }
   ],
   "source": [
    "for i in range(len(df)):\n",
    "    if df['cell_type'][i] == 'neuron':\n",
    "        df['cell_type'][i] = 'Neuron'\n",
    "    if df['cell_type'][i] == 'Oligodendrocyte':\n",
    "        df['cell_type'][i] = 'Oligo'\n",
    "    if df['cell_type'][i] == 'Astrocyte':\n",
    "        df['cell_type'][i] = 'Astro'"
   ]
  },
  {
   "cell_type": "markdown",
   "metadata": {},
   "source": [
    "## (8) Reprint the value counts to check whether you effectively removed the few stragglers!\n",
    "- There should be 10 different types, you can quickly check this using np.unique().shape() on original cell type series!"
   ]
  },
  {
   "cell_type": "code",
   "execution_count": 78,
   "metadata": {},
   "outputs": [
    {
     "name": "stdout",
     "output_type": "stream",
     "text": [
      "Neuron        837\n",
      "Astro         107\n",
      "Macrophage     71\n",
      "Microglia      48\n",
      "Oligo          43\n",
      "Vascular       43\n",
      "Ependy-Sec     21\n",
      "Ependy-C       18\n",
      "OPC            13\n",
      "NSC             7\n",
      "Name: cell_type, dtype: int64\n",
      "Number of unique classification of cell type:  (10,)\n"
     ]
    }
   ],
   "source": [
    "print(df['cell_type'].value_counts())\n",
    "print('Number of unique classification of cell type: ', np.unique(df['cell_type']).shape)"
   ]
  },
  {
   "cell_type": "markdown",
   "metadata": {},
   "source": [
    "## (9) Now that we have fixed the abberrant labels, we can appropriately group the data!!\n",
    "- Our first question could be: what is the average (mean) gene expression of Shank3 in different cell types within the striatum?\n",
    "    - Write a code (using the pandas groupby function) to answer this question"
   ]
  },
  {
   "cell_type": "code",
   "execution_count": 62,
   "metadata": {},
   "outputs": [
    {
     "data": {
      "image/png": "[encoded data removed]",
      "text/plain": [
       "<Figure size 432x288 with 1 Axes>"
      ]
     },
     "metadata": {
      "needs_background": "light"
     },
     "output_type": "display_data"
    }
   ],
   "source": [
    "df.groupby(['cell_type'])['Shank3'].mean().plot(color = 'black');"
   ]
  },
  {
   "cell_type": "markdown",
   "metadata": {},
   "source": [
    "## We can repeat this code with any gene we might be interested in! Let's try Cx3cr1!"
   ]
  },
  {
   "cell_type": "code",
   "execution_count": 63,
   "metadata": {},
   "outputs": [
    {
     "data": {
      "image/png": "[encoded data removed]",
      "text/plain": [
       "<Figure size 432x288 with 1 Axes>"
      ]
     },
     "metadata": {
      "needs_background": "light"
     },
     "output_type": "display_data"
    }
   ],
   "source": [
    "df.groupby(['cell_type'])['Cx3cr1'].mean().plot(color = 'black');"
   ]
  },
  {
   "cell_type": "markdown",
   "metadata": {},
   "source": [
    "## (10) A quick way to visualize these quantities across groups is to plot them. Try appending the .plot() function onto the end of your groupby code and see what happens!\n",
    "- In the publication, they distinguished various cell types based on their uniquely high expression of certain genes.\n",
    "    - Which cell type are they able to distinguish using 'Ttr'?\n",
    "    - What about 'Mog'?"
   ]
  },
  {
   "cell_type": "code",
   "execution_count": 69,
   "metadata": {},
   "outputs": [
    {
     "data": {
      "image/png": "[encoded data removed]",
      "text/plain": [
       "<Figure size 432x288 with 1 Axes>"
      ]
     },
     "metadata": {
      "needs_background": "light"
     },
     "output_type": "display_data"
    }
   ],
   "source": [
    "df.groupby(['cell_type'])['Ttr'].mean().plot(color = 'black');"
   ]
  },
  {
   "cell_type": "code",
   "execution_count": 70,
   "metadata": {},
   "outputs": [
    {
     "data": {
      "image/png": "[encoded data removed]",
      "text/plain": [
       "<Figure size 432x288 with 1 Axes>"
      ]
     },
     "metadata": {
      "needs_background": "light"
     },
     "output_type": "display_data"
    }
   ],
   "source": [
    "df.groupby(['cell_type'])['Mog'].mean().plot(color = 'black');"
   ]
  },
  {
   "cell_type": "markdown",
   "metadata": {},
   "source": [
    "## (11) Hopefully this was helpful to work through and this example was able to demonstrate how getting your data to a clean dataframe format can allow for fast, exploratory analysis in many different dimensions!\n",
    "- Please slack or bring any questions with you to our programming meeting next week!"
   ]
  }
 ],
 "metadata": {
  "kernelspec": {
   "display_name": "Python 3",
   "language": "python",
   "name": "python3"
  },
  "language_info": {
   "codemirror_mode": {
    "name": "ipython",
    "version": 3
   },
   "file_extension": ".py",
   "mimetype": "text/x-python",
   "name": "python",
   "nbconvert_exporter": "python",
   "pygments_lexer": "ipython3",
   "version": "3.7.4"
  }
 },
 "nbformat": 4,
 "nbformat_minor": 4
}
