{
 "cells": [
  {
   "cell_type": "code",
   "execution_count": 1,
   "metadata": {},
   "outputs": [],
   "source": [
    "import numpy as np\n",
    "import pandas as pd"
   ]
  },
  {
   "cell_type": "code",
   "execution_count": 57,
   "metadata": {},
   "outputs": [],
   "source": [
    "df = pd.read_excel('H:\\\\DATA\\\\Sociability_data_for_Practice.xlsx')"
   ]
  },
  {
   "cell_type": "code",
   "execution_count": 3,
   "metadata": {},
   "outputs": [
    {
     "data": {
      "text/html": [
       "<div>\n",
       "<style scoped>\n",
       "    .dataframe tbody tr th:only-of-type {\n",
       "        vertical-align: middle;\n",
       "    }\n",
       "\n",
       "    .dataframe tbody tr th {\n",
       "        vertical-align: top;\n",
       "    }\n",
       "\n",
       "    .dataframe thead th {\n",
       "        text-align: right;\n",
       "    }\n",
       "</style>\n",
       "<table border=\"1\" class=\"dataframe\">\n",
       "  <thead>\n",
       "    <tr style=\"text-align: right;\">\n",
       "      <th></th>\n",
       "      <th>Treatment</th>\n",
       "      <th>Sex</th>\n",
       "      <th>% Social investigation</th>\n",
       "      <th>Social investigation</th>\n",
       "      <th>Object investigation</th>\n",
       "      <th>Total Investigation</th>\n",
       "    </tr>\n",
       "  </thead>\n",
       "  <tbody>\n",
       "    <tr>\n",
       "      <th>0</th>\n",
       "      <td>VEH/COM</td>\n",
       "      <td>Male</td>\n",
       "      <td>78.478136</td>\n",
       "      <td>25.897</td>\n",
       "      <td>7.102</td>\n",
       "      <td>32.999</td>\n",
       "    </tr>\n",
       "    <tr>\n",
       "      <th>1</th>\n",
       "      <td>VEH/CON</td>\n",
       "      <td>Male</td>\n",
       "      <td>87.745487</td>\n",
       "      <td>19.927</td>\n",
       "      <td>2.783</td>\n",
       "      <td>22.710</td>\n",
       "    </tr>\n",
       "    <tr>\n",
       "      <th>2</th>\n",
       "      <td>VEH/CON</td>\n",
       "      <td>Male</td>\n",
       "      <td>94.657700</td>\n",
       "      <td>35.189</td>\n",
       "      <td>1.986</td>\n",
       "      <td>37.175</td>\n",
       "    </tr>\n",
       "    <tr>\n",
       "      <th>3</th>\n",
       "      <td>VEH/CON</td>\n",
       "      <td>Male</td>\n",
       "      <td>84.840000</td>\n",
       "      <td>21.210</td>\n",
       "      <td>3.790</td>\n",
       "      <td>25.000</td>\n",
       "    </tr>\n",
       "    <tr>\n",
       "      <th>4</th>\n",
       "      <td>VEH/CON</td>\n",
       "      <td>Male</td>\n",
       "      <td>95.692308</td>\n",
       "      <td>37.631</td>\n",
       "      <td>1.694</td>\n",
       "      <td>39.325</td>\n",
       "    </tr>\n",
       "  </tbody>\n",
       "</table>\n",
       "</div>"
      ],
      "text/plain": [
       "  Treatment   Sex  % Social investigation  Social investigation  \\\n",
       "0   VEH/COM  Male               78.478136                25.897   \n",
       "1   VEH/CON  Male               87.745487                19.927   \n",
       "2   VEH/CON  Male               94.657700                35.189   \n",
       "3   VEH/CON  Male               84.840000                21.210   \n",
       "4   VEH/CON  Male               95.692308                37.631   \n",
       "\n",
       "   Object investigation  Total Investigation  \n",
       "0                 7.102               32.999  \n",
       "1                 2.783               22.710  \n",
       "2                 1.986               37.175  \n",
       "3                 3.790               25.000  \n",
       "4                 1.694               39.325  "
      ]
     },
     "execution_count": 3,
     "metadata": {},
     "output_type": "execute_result"
    }
   ],
   "source": [
    "df.head()"
   ]
  },
  {
   "cell_type": "code",
   "execution_count": 4,
   "metadata": {},
   "outputs": [],
   "source": [
    "x = df['Treatment'].str.upper()"
   ]
  },
  {
   "cell_type": "code",
   "execution_count": 5,
   "metadata": {},
   "outputs": [],
   "source": [
    "df['Treatment'] = x"
   ]
  },
  {
   "cell_type": "code",
   "execution_count": 6,
   "metadata": {},
   "outputs": [
    {
     "data": {
      "text/html": [
       "<div>\n",
       "<style scoped>\n",
       "    .dataframe tbody tr th:only-of-type {\n",
       "        vertical-align: middle;\n",
       "    }\n",
       "\n",
       "    .dataframe tbody tr th {\n",
       "        vertical-align: top;\n",
       "    }\n",
       "\n",
       "    .dataframe thead th {\n",
       "        text-align: right;\n",
       "    }\n",
       "</style>\n",
       "<table border=\"1\" class=\"dataframe\">\n",
       "  <thead>\n",
       "    <tr style=\"text-align: right;\">\n",
       "      <th></th>\n",
       "      <th>Treatment</th>\n",
       "      <th>Sex</th>\n",
       "      <th>% Social investigation</th>\n",
       "      <th>Social investigation</th>\n",
       "      <th>Object investigation</th>\n",
       "      <th>Total Investigation</th>\n",
       "    </tr>\n",
       "  </thead>\n",
       "  <tbody>\n",
       "    <tr>\n",
       "      <th>0</th>\n",
       "      <td>VEH/COM</td>\n",
       "      <td>Male</td>\n",
       "      <td>78.478136</td>\n",
       "      <td>25.897</td>\n",
       "      <td>7.102</td>\n",
       "      <td>32.999</td>\n",
       "    </tr>\n",
       "    <tr>\n",
       "      <th>1</th>\n",
       "      <td>VEH/CON</td>\n",
       "      <td>Male</td>\n",
       "      <td>87.745487</td>\n",
       "      <td>19.927</td>\n",
       "      <td>2.783</td>\n",
       "      <td>22.710</td>\n",
       "    </tr>\n",
       "    <tr>\n",
       "      <th>2</th>\n",
       "      <td>VEH/CON</td>\n",
       "      <td>Male</td>\n",
       "      <td>94.657700</td>\n",
       "      <td>35.189</td>\n",
       "      <td>1.986</td>\n",
       "      <td>37.175</td>\n",
       "    </tr>\n",
       "    <tr>\n",
       "      <th>3</th>\n",
       "      <td>VEH/CON</td>\n",
       "      <td>Male</td>\n",
       "      <td>84.840000</td>\n",
       "      <td>21.210</td>\n",
       "      <td>3.790</td>\n",
       "      <td>25.000</td>\n",
       "    </tr>\n",
       "    <tr>\n",
       "      <th>4</th>\n",
       "      <td>VEH/CON</td>\n",
       "      <td>Male</td>\n",
       "      <td>95.692308</td>\n",
       "      <td>37.631</td>\n",
       "      <td>1.694</td>\n",
       "      <td>39.325</td>\n",
       "    </tr>\n",
       "  </tbody>\n",
       "</table>\n",
       "</div>"
      ],
      "text/plain": [
       "  Treatment   Sex  % Social investigation  Social investigation  \\\n",
       "0   VEH/COM  Male               78.478136                25.897   \n",
       "1   VEH/CON  Male               87.745487                19.927   \n",
       "2   VEH/CON  Male               94.657700                35.189   \n",
       "3   VEH/CON  Male               84.840000                21.210   \n",
       "4   VEH/CON  Male               95.692308                37.631   \n",
       "\n",
       "   Object investigation  Total Investigation  \n",
       "0                 7.102               32.999  \n",
       "1                 2.783               22.710  \n",
       "2                 1.986               37.175  \n",
       "3                 3.790               25.000  \n",
       "4                 1.694               39.325  "
      ]
     },
     "execution_count": 6,
     "metadata": {},
     "output_type": "execute_result"
    }
   ],
   "source": [
    "df.head()"
   ]
  },
  {
   "cell_type": "code",
   "execution_count": 7,
   "metadata": {},
   "outputs": [
    {
     "data": {
      "text/plain": [
       "Index(['Treatment', 'Sex', '% Social investigation', 'Social investigation',\n",
       "       'Object investigation', 'Total Investigation'],\n",
       "      dtype='object')"
      ]
     },
     "execution_count": 7,
     "metadata": {},
     "output_type": "execute_result"
    }
   ],
   "source": [
    "df.columns"
   ]
  },
  {
   "cell_type": "code",
   "execution_count": 8,
   "metadata": {},
   "outputs": [
    {
     "data": {
      "text/plain": [
       "RangeIndex(start=0, stop=54, step=1)"
      ]
     },
     "execution_count": 8,
     "metadata": {},
     "output_type": "execute_result"
    }
   ],
   "source": [
    "df.index"
   ]
  },
  {
   "cell_type": "code",
   "execution_count": 9,
   "metadata": {},
   "outputs": [
    {
     "data": {
      "text/plain": [
       "'Social investigation'"
      ]
     },
     "execution_count": 9,
     "metadata": {},
     "output_type": "execute_result"
    }
   ],
   "source": [
    "df.columns[3]"
   ]
  },
  {
   "cell_type": "code",
   "execution_count": 10,
   "metadata": {},
   "outputs": [
    {
     "data": {
      "text/plain": [
       "0    Male\n",
       "Name: Sex, dtype: object"
      ]
     },
     "execution_count": 10,
     "metadata": {},
     "output_type": "execute_result"
    }
   ],
   "source": [
    "df['Sex'][df['Treatment'] == 'VEH/COM']"
   ]
  },
  {
   "cell_type": "code",
   "execution_count": 11,
   "metadata": {},
   "outputs": [],
   "source": [
    "x = True"
   ]
  },
  {
   "cell_type": "code",
   "execution_count": 12,
   "metadata": {},
   "outputs": [
    {
     "data": {
      "text/plain": [
       "True"
      ]
     },
     "execution_count": 12,
     "metadata": {},
     "output_type": "execute_result"
    }
   ],
   "source": [
    "x"
   ]
  },
  {
   "cell_type": "code",
   "execution_count": 13,
   "metadata": {},
   "outputs": [
    {
     "data": {
      "text/plain": [
       "bool"
      ]
     },
     "execution_count": 13,
     "metadata": {},
     "output_type": "execute_result"
    }
   ],
   "source": [
    "type(x)"
   ]
  },
  {
   "cell_type": "code",
   "execution_count": 27,
   "metadata": {},
   "outputs": [],
   "source": [
    "x = df['Treatment'][df['Object investigation'] < 5]"
   ]
  },
  {
   "cell_type": "code",
   "execution_count": 32,
   "metadata": {},
   "outputs": [
    {
     "data": {
      "text/html": [
       "<div>\n",
       "<style scoped>\n",
       "    .dataframe tbody tr th:only-of-type {\n",
       "        vertical-align: middle;\n",
       "    }\n",
       "\n",
       "    .dataframe tbody tr th {\n",
       "        vertical-align: top;\n",
       "    }\n",
       "\n",
       "    .dataframe thead th {\n",
       "        text-align: right;\n",
       "    }\n",
       "</style>\n",
       "<table border=\"1\" class=\"dataframe\">\n",
       "  <thead>\n",
       "    <tr style=\"text-align: right;\">\n",
       "      <th></th>\n",
       "      <th>Treatment</th>\n",
       "      <th>Sex</th>\n",
       "      <th>% Social investigation</th>\n",
       "      <th>Social investigation</th>\n",
       "      <th>Object investigation</th>\n",
       "      <th>Total Investigation</th>\n",
       "    </tr>\n",
       "  </thead>\n",
       "  <tbody>\n",
       "    <tr>\n",
       "      <th>0</th>\n",
       "      <td>VEH/COM</td>\n",
       "      <td>Male</td>\n",
       "      <td>78.478136</td>\n",
       "      <td>25.897</td>\n",
       "      <td>7.102</td>\n",
       "      <td>32.999</td>\n",
       "    </tr>\n",
       "    <tr>\n",
       "      <th>1</th>\n",
       "      <td>VEH/CON</td>\n",
       "      <td>Male</td>\n",
       "      <td>87.745487</td>\n",
       "      <td>19.927</td>\n",
       "      <td>2.783</td>\n",
       "      <td>22.710</td>\n",
       "    </tr>\n",
       "    <tr>\n",
       "      <th>2</th>\n",
       "      <td>VEH/CON</td>\n",
       "      <td>Male</td>\n",
       "      <td>94.657700</td>\n",
       "      <td>35.189</td>\n",
       "      <td>1.986</td>\n",
       "      <td>37.175</td>\n",
       "    </tr>\n",
       "    <tr>\n",
       "      <th>3</th>\n",
       "      <td>VEH/CON</td>\n",
       "      <td>Male</td>\n",
       "      <td>84.840000</td>\n",
       "      <td>21.210</td>\n",
       "      <td>3.790</td>\n",
       "      <td>25.000</td>\n",
       "    </tr>\n",
       "    <tr>\n",
       "      <th>4</th>\n",
       "      <td>VEH/CON</td>\n",
       "      <td>Male</td>\n",
       "      <td>95.692308</td>\n",
       "      <td>37.631</td>\n",
       "      <td>1.694</td>\n",
       "      <td>39.325</td>\n",
       "    </tr>\n",
       "  </tbody>\n",
       "</table>\n",
       "</div>"
      ],
      "text/plain": [
       "  Treatment   Sex  % Social investigation  Social investigation  \\\n",
       "0   VEH/COM  Male               78.478136                25.897   \n",
       "1   VEH/CON  Male               87.745487                19.927   \n",
       "2   VEH/CON  Male               94.657700                35.189   \n",
       "3   VEH/CON  Male               84.840000                21.210   \n",
       "4   VEH/CON  Male               95.692308                37.631   \n",
       "\n",
       "   Object investigation  Total Investigation  \n",
       "0                 7.102               32.999  \n",
       "1                 2.783               22.710  \n",
       "2                 1.986               37.175  \n",
       "3                 3.790               25.000  \n",
       "4                 1.694               39.325  "
      ]
     },
     "execution_count": 32,
     "metadata": {},
     "output_type": "execute_result"
    }
   ],
   "source": [
    "df.head()"
   ]
  },
  {
   "cell_type": "code",
   "execution_count": 33,
   "metadata": {},
   "outputs": [
    {
     "data": {
      "text/plain": [
       "array(['DEP/MS', 'VEH/COM', 'VEH/CON'], dtype=object)"
      ]
     },
     "execution_count": 33,
     "metadata": {},
     "output_type": "execute_result"
    }
   ],
   "source": [
    "np.unique(df['Treatment'])"
   ]
  },
  {
   "cell_type": "code",
   "execution_count": 44,
   "metadata": {},
   "outputs": [
    {
     "name": "stderr",
     "output_type": "stream",
     "text": [
      "D:\\anaconda\\lib\\site-packages\\ipykernel_launcher.py:1: SettingWithCopyWarning: \n",
      "A value is trying to be set on a copy of a slice from a DataFrame\n",
      "\n",
      "See the caveats in the documentation: https://pandas.pydata.org/pandas-docs/stable/user_guide/indexing.html#returning-a-view-versus-a-copy\n",
      "  \"\"\"Entry point for launching an IPython kernel.\n"
     ]
    }
   ],
   "source": [
    "df['Treatment'][0] = 'VEH/CON'"
   ]
  },
  {
   "cell_type": "code",
   "execution_count": 46,
   "metadata": {},
   "outputs": [
    {
     "data": {
      "text/plain": [
       "array(['DEP/MS', 'VEH/CON'], dtype=object)"
      ]
     },
     "execution_count": 46,
     "metadata": {},
     "output_type": "execute_result"
    }
   ],
   "source": [
    "np.unique(df['Treatment'])"
   ]
  },
  {
   "cell_type": "code",
   "execution_count": 48,
   "metadata": {},
   "outputs": [
    {
     "data": {
      "text/html": [
       "<div>\n",
       "<style scoped>\n",
       "    .dataframe tbody tr th:only-of-type {\n",
       "        vertical-align: middle;\n",
       "    }\n",
       "\n",
       "    .dataframe tbody tr th {\n",
       "        vertical-align: top;\n",
       "    }\n",
       "\n",
       "    .dataframe thead th {\n",
       "        text-align: right;\n",
       "    }\n",
       "</style>\n",
       "<table border=\"1\" class=\"dataframe\">\n",
       "  <thead>\n",
       "    <tr style=\"text-align: right;\">\n",
       "      <th></th>\n",
       "      <th>Treatment</th>\n",
       "      <th>Sex</th>\n",
       "      <th>% Social investigation</th>\n",
       "      <th>Social investigation</th>\n",
       "      <th>Object investigation</th>\n",
       "      <th>Total Investigation</th>\n",
       "    </tr>\n",
       "  </thead>\n",
       "  <tbody>\n",
       "    <tr>\n",
       "      <th>0</th>\n",
       "      <td>VEH/CON</td>\n",
       "      <td>Male</td>\n",
       "      <td>78.478136</td>\n",
       "      <td>25.897</td>\n",
       "      <td>7.102</td>\n",
       "      <td>32.999</td>\n",
       "    </tr>\n",
       "    <tr>\n",
       "      <th>1</th>\n",
       "      <td>VEH/CON</td>\n",
       "      <td>Male</td>\n",
       "      <td>87.745487</td>\n",
       "      <td>19.927</td>\n",
       "      <td>2.783</td>\n",
       "      <td>22.710</td>\n",
       "    </tr>\n",
       "    <tr>\n",
       "      <th>2</th>\n",
       "      <td>VEH/CON</td>\n",
       "      <td>Male</td>\n",
       "      <td>94.657700</td>\n",
       "      <td>35.189</td>\n",
       "      <td>1.986</td>\n",
       "      <td>37.175</td>\n",
       "    </tr>\n",
       "    <tr>\n",
       "      <th>3</th>\n",
       "      <td>VEH/CON</td>\n",
       "      <td>Male</td>\n",
       "      <td>84.840000</td>\n",
       "      <td>21.210</td>\n",
       "      <td>3.790</td>\n",
       "      <td>25.000</td>\n",
       "    </tr>\n",
       "    <tr>\n",
       "      <th>4</th>\n",
       "      <td>VEH/CON</td>\n",
       "      <td>Male</td>\n",
       "      <td>95.692308</td>\n",
       "      <td>37.631</td>\n",
       "      <td>1.694</td>\n",
       "      <td>39.325</td>\n",
       "    </tr>\n",
       "  </tbody>\n",
       "</table>\n",
       "</div>"
      ],
      "text/plain": [
       "  Treatment   Sex  % Social investigation  Social investigation  \\\n",
       "0   VEH/CON  Male               78.478136                25.897   \n",
       "1   VEH/CON  Male               87.745487                19.927   \n",
       "2   VEH/CON  Male               94.657700                35.189   \n",
       "3   VEH/CON  Male               84.840000                21.210   \n",
       "4   VEH/CON  Male               95.692308                37.631   \n",
       "\n",
       "   Object investigation  Total Investigation  \n",
       "0                 7.102               32.999  \n",
       "1                 2.783               22.710  \n",
       "2                 1.986               37.175  \n",
       "3                 3.790               25.000  \n",
       "4                 1.694               39.325  "
      ]
     },
     "execution_count": 48,
     "metadata": {},
     "output_type": "execute_result"
    }
   ],
   "source": [
    "df.head()"
   ]
  },
  {
   "cell_type": "code",
   "execution_count": 50,
   "metadata": {},
   "outputs": [
    {
     "data": {
      "text/plain": [
       "54"
      ]
     },
     "execution_count": 50,
     "metadata": {},
     "output_type": "execute_result"
    }
   ],
   "source": [
    "len(df)"
   ]
  },
  {
   "cell_type": "code",
   "execution_count": 51,
   "metadata": {},
   "outputs": [
    {
     "data": {
      "text/plain": [
       "range(0, 54)"
      ]
     },
     "execution_count": 51,
     "metadata": {},
     "output_type": "execute_result"
    }
   ],
   "source": [
    "range(len(df))"
   ]
  },
  {
   "cell_type": "code",
   "execution_count": 52,
   "metadata": {},
   "outputs": [
    {
     "name": "stdout",
     "output_type": "stream",
     "text": [
      "0\n",
      "1\n",
      "2\n",
      "3\n",
      "4\n",
      "5\n",
      "6\n",
      "7\n",
      "8\n",
      "9\n",
      "10\n",
      "11\n",
      "12\n",
      "13\n",
      "14\n",
      "15\n",
      "16\n",
      "17\n",
      "18\n",
      "19\n",
      "20\n",
      "21\n",
      "22\n",
      "23\n",
      "24\n",
      "25\n",
      "26\n",
      "27\n",
      "28\n",
      "29\n",
      "30\n",
      "31\n",
      "32\n",
      "33\n",
      "34\n",
      "35\n",
      "36\n",
      "37\n",
      "38\n",
      "39\n",
      "40\n",
      "41\n",
      "42\n",
      "43\n",
      "44\n",
      "45\n",
      "46\n",
      "47\n",
      "48\n",
      "49\n",
      "50\n",
      "51\n",
      "52\n",
      "53\n"
     ]
    }
   ],
   "source": [
    "for i in range(len(df)):\n",
    "    print(i)"
   ]
  },
  {
   "cell_type": "code",
   "execution_count": 60,
   "metadata": {},
   "outputs": [
    {
     "name": "stderr",
     "output_type": "stream",
     "text": [
      "D:\\anaconda\\lib\\site-packages\\ipykernel_launcher.py:3: SettingWithCopyWarning: \n",
      "A value is trying to be set on a copy of a slice from a DataFrame\n",
      "\n",
      "See the caveats in the documentation: https://pandas.pydata.org/pandas-docs/stable/user_guide/indexing.html#returning-a-view-versus-a-copy\n",
      "  This is separate from the ipykernel package so we can avoid doing imports until\n"
     ]
    }
   ],
   "source": [
    "for i in range(len(df)):\n",
    "    if df['Treatment'][i] == 'VEH/COM':\n",
    "        df['Treatment'][i] = 'VEH/CON'"
   ]
  },
  {
   "cell_type": "code",
   "execution_count": 62,
   "metadata": {},
   "outputs": [
    {
     "data": {
      "text/html": [
       "<div>\n",
       "<style scoped>\n",
       "    .dataframe tbody tr th:only-of-type {\n",
       "        vertical-align: middle;\n",
       "    }\n",
       "\n",
       "    .dataframe tbody tr th {\n",
       "        vertical-align: top;\n",
       "    }\n",
       "\n",
       "    .dataframe thead th {\n",
       "        text-align: right;\n",
       "    }\n",
       "</style>\n",
       "<table border=\"1\" class=\"dataframe\">\n",
       "  <thead>\n",
       "    <tr style=\"text-align: right;\">\n",
       "      <th></th>\n",
       "      <th>Treatment</th>\n",
       "      <th>Sex</th>\n",
       "      <th>% Social investigation</th>\n",
       "      <th>Social investigation</th>\n",
       "      <th>Object investigation</th>\n",
       "      <th>Total Investigation</th>\n",
       "    </tr>\n",
       "  </thead>\n",
       "  <tbody>\n",
       "    <tr>\n",
       "      <th>0</th>\n",
       "      <td>VEH/CON</td>\n",
       "      <td>Male</td>\n",
       "      <td>78.478136</td>\n",
       "      <td>25.897</td>\n",
       "      <td>7.102</td>\n",
       "      <td>32.999</td>\n",
       "    </tr>\n",
       "    <tr>\n",
       "      <th>1</th>\n",
       "      <td>VEH/CON</td>\n",
       "      <td>Male</td>\n",
       "      <td>87.745487</td>\n",
       "      <td>19.927</td>\n",
       "      <td>2.783</td>\n",
       "      <td>22.710</td>\n",
       "    </tr>\n",
       "    <tr>\n",
       "      <th>2</th>\n",
       "      <td>VEH/CON</td>\n",
       "      <td>Male</td>\n",
       "      <td>94.657700</td>\n",
       "      <td>35.189</td>\n",
       "      <td>1.986</td>\n",
       "      <td>37.175</td>\n",
       "    </tr>\n",
       "    <tr>\n",
       "      <th>3</th>\n",
       "      <td>VEH/CON</td>\n",
       "      <td>Male</td>\n",
       "      <td>84.840000</td>\n",
       "      <td>21.210</td>\n",
       "      <td>3.790</td>\n",
       "      <td>25.000</td>\n",
       "    </tr>\n",
       "    <tr>\n",
       "      <th>4</th>\n",
       "      <td>VEH/CON</td>\n",
       "      <td>Male</td>\n",
       "      <td>95.692308</td>\n",
       "      <td>37.631</td>\n",
       "      <td>1.694</td>\n",
       "      <td>39.325</td>\n",
       "    </tr>\n",
       "  </tbody>\n",
       "</table>\n",
       "</div>"
      ],
      "text/plain": [
       "  Treatment   Sex  % Social investigation  Social investigation  \\\n",
       "0   VEH/CON  Male               78.478136                25.897   \n",
       "1   VEH/CON  Male               87.745487                19.927   \n",
       "2   VEH/CON  Male               94.657700                35.189   \n",
       "3   VEH/CON  Male               84.840000                21.210   \n",
       "4   VEH/CON  Male               95.692308                37.631   \n",
       "\n",
       "   Object investigation  Total Investigation  \n",
       "0                 7.102               32.999  \n",
       "1                 2.783               22.710  \n",
       "2                 1.986               37.175  \n",
       "3                 3.790               25.000  \n",
       "4                 1.694               39.325  "
      ]
     },
     "execution_count": 62,
     "metadata": {},
     "output_type": "execute_result"
    }
   ],
   "source": [
    "df.head()"
   ]
  },
  {
   "cell_type": "code",
   "execution_count": null,
   "metadata": {},
   "outputs": [],
   "source": []
  }
 ],
 "metadata": {
  "kernelspec": {
   "display_name": "Python 3",
   "language": "python",
   "name": "python3"
  },
  "language_info": {
   "codemirror_mode": {
    "name": "ipython",
    "version": 3
   },
   "file_extension": ".py",
   "mimetype": "text/x-python",
   "name": "python",
   "nbconvert_exporter": "python",
   "pygments_lexer": "ipython3",
   "version": "3.7.4"
  }
 },
 "nbformat": 4,
 "nbformat_minor": 4
}
